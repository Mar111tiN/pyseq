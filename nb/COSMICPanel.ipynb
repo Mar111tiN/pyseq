{
 "cells": [
  {
   "cell_type": "markdown",
   "id": "43b593fd",
   "metadata": {},
   "source": [
    "## Creating a custom panel for use in small sequencers for LungCancerMutations\n",
    "\n",
    "### Strategy: Look for mutational hotspots for lung cancer in the COSMIC Database"
   ]
  },
  {
   "cell_type": "code",
   "execution_count": 1,
   "id": "49022a20",
   "metadata": {
    "ExecuteTime": {
     "end_time": "2022-02-15T11:59:02.008083Z",
     "start_time": "2022-02-15T11:59:02.004281Z"
    }
   },
   "outputs": [],
   "source": [
    "# some sensible settings for better output\n",
    "import os\n",
    "import pandas as pd\n",
    "from IPython.display import display\n",
    "pd.set_option('display.max_columns', None)\n",
    "pd.set_option('display.max_rows', 200)\n",
    "from IPython.core.interactiveshell import InteractiveShell\n",
    "InteractiveShell.ast_node_interactivity = \"all\"\n",
    "pd.set_option('max_colwidth', 200)\n",
    "\n",
    "\n",
    "# get the code\n",
    "import sys\n",
    "sys.path.append('../code')\n",
    "from script_utils import show_output\n",
    "\n",
    "# paths\n",
    "static_path = os.path.join(os.environ['STATIC'], \"annotation/clinical\")\n",
    "local_path = os.path.join(os.environ['WORK'], \"LO/Sequencing/LungCustomPanel\")"
   ]
  },
  {
   "cell_type": "markdown",
   "id": "0d6558a2",
   "metadata": {},
   "source": [
    "## putting it all together"
   ]
  },
  {
   "cell_type": "code",
   "execution_count": 2,
   "id": "958ae19f",
   "metadata": {
    "ExecuteTime": {
     "end_time": "2022-02-15T11:59:10.059596Z",
     "start_time": "2022-02-15T11:59:02.689748Z"
    }
   },
   "outputs": [],
   "source": [
    "from cosmic_panel import cosmic_panel_master, analyze_genes\n",
    "# load exonic annotations\n",
    "cosmic_exon_path = os.path.join(static_path, \"cosmic_exon.csv\")\n",
    "cosmic_exon_df = pd.read_csv(cosmic_exon_path, sep=\"\\t\", compression=\"gzip\")"
   ]
  },
  {
   "cell_type": "code",
   "execution_count": 8,
   "id": "0c057670",
   "metadata": {
    "ExecuteTime": {
     "end_time": "2022-02-15T12:01:55.096145Z",
     "start_time": "2022-02-15T12:01:29.299238Z"
    }
   },
   "outputs": [
    {
     "name": "stdout",
     "output_type": "stream",
     "text": [
      "\u001b[1;30;1mCreating custom panel based on limits set in filter settings.\n",
      "\t[cosmic_rolling_min:\t500]\n",
      "\t[rolling_window_size:\t5]\n",
      "\t[cosmic_min:\t3500]\n",
      "\t[cosmic_density_min:\t250]\n",
      "\t[padding:\t75]\u001b[0m\n",
      "\u001b[1;30;1mComputing cosmic score using 10 threads.\u001b[0m\n",
      "\u001b[1;30;1mInflating gene-wise scores for the following genes:\n",
      "ERBB4,PDGFRA,FLT1,KDR,RET,BRCA2,ROS1,MAP3K4,JAK3,ERBB3,MYC,NOTCH4,PIK3CD,CDK12,NOTCH1,PTEN,SMARCB1,PDGFRB,SMO,PIK3CB,MAP2K1,MAPK8,MAP2K2,CDKN1B,CDK3\u001b[0m\n",
      "\u001b[1;30;1mCosmic score finished.\u001b[0m\n",
      "\u001b[1;30;1mCondensing the mutations per position.\u001b[0m\n",
      "\u001b[1;30;1mCondensing cosmic scores using 10 threads.\u001b[0m\n",
      "\u001b[1;36;1mFinished condensing cosmic scores.\u001b[0m\n",
      "\u001b[1;30;1mPerform rolling window computation\u001b[0m\n",
      "\u001b[1;30;1mComputing mutation density\u001b[0m\n",
      "\u001b[1;30;1mFiltering out background mutations\u001b[0m\n",
      "\u001b[1;30;1mFiltered out 203521 mutations [209405 --> 5884]\u001b[0m\n",
      "\u001b[1;30;1mCollapsing the mutations to adjacency groups\u001b[0m\n",
      "\u001b[1;30;1mCollapsing adjacent mutations and including bait padding\u001b[0m\n",
      "\u001b[1;36;1mFinished! Library size = 456kb - 5884 mutations included\u001b[0m\n"
     ]
    }
   ],
   "source": [
    "# filter settings\n",
    "custom_filter = dict(\n",
    "    exonic_list = ['exonic', 'UTR3', 'UTR5', 'UTR5;UTR3', 'exonic;splicing'],\n",
    "    mut_list = ['nonsynonymous SNV', 'stopgain', 'startloss', 'stoploss', 'frameshift deletion', 'nonframeshift deletion'],\n",
    "    gnomad_max=1e-2,\n",
    "    cosmic_rolling_min=500,\n",
    "    rolling_window_size=5,\n",
    "    cosmic_min = 3500,\n",
    "    cosmic_density_min = 250,\n",
    "    padding=75\n",
    ")\n",
    "\n",
    "clinscore_file = \"../configs/clinscoreLung_with_geneboost.yaml\"\n",
    "\n",
    "panel_muts, regions_df, cosmic_scored = cosmic_panel_master(cosmic_exon_df,\n",
    "                                              cosmic_weights_file=clinscore_file, \n",
    "                                              filter_setting=custom_filter,\n",
    "                                                threads=10,\n",
    "                                              verbose=1\n",
    "                                             )"
   ]
  },
  {
   "cell_type": "markdown",
   "id": "6d5e0967",
   "metadata": {},
   "source": [
    "### reruns can be performed without re-computing the cosmic scores\n",
    "+ just use the last output from previous run (`cosmic_scored`) as input and remove the cosmic_weights file, so the tool knows you do not want to recompute the clinscores"
   ]
  },
  {
   "cell_type": "code",
   "execution_count": 9,
   "id": "005a00b6",
   "metadata": {
    "ExecuteTime": {
     "end_time": "2022-02-15T12:01:59.327784Z",
     "start_time": "2022-02-15T12:01:57.930379Z"
    }
   },
   "outputs": [
    {
     "name": "stdout",
     "output_type": "stream",
     "text": [
      "\u001b[1;30;1mCreating custom panel based on limits set in filter settings.\n",
      "\t[cosmic_rolling_min:\t500]\n",
      "\t[rolling_window_size:\t5]\n",
      "\t[cosmic_min:\t3500]\n",
      "\t[cosmic_density_min:\t250]\n",
      "\t[padding:\t75]\u001b[0m\n",
      "\u001b[1;30;1mUsing precomputed cosmic scores! For recomputation, provide a cosmic weights file\u001b[0m\n",
      "\u001b[1;30;1mPerform rolling window computation\u001b[0m\n",
      "\u001b[1;30;1mComputing mutation density\u001b[0m\n",
      "\u001b[1;30;1mFiltering out background mutations\u001b[0m\n",
      "\u001b[1;30;1mFiltered out 203521 mutations [209405 --> 5884]\u001b[0m\n",
      "\u001b[1;30;1mCollapsing the mutations to adjacency groups\u001b[0m\n",
      "\u001b[1;30;1mCollapsing adjacent mutations and including bait padding\u001b[0m\n",
      "\u001b[1;36;1mFinished! Library size = 456kb - 5884 mutations included\u001b[0m\n"
     ]
    }
   ],
   "source": [
    "custom_filter = dict(\n",
    "    exonic_list = ['exonic', 'UTR3', 'UTR5', 'UTR5;UTR3', 'exonic;splicing'],\n",
    "    mut_list = ['nonsynonymous SNV', 'stopgain', 'startloss', 'stoploss', 'frameshift deletion', 'nonframeshift deletion'],\n",
    "    gnomad_max=1e-2,\n",
    "    cosmic_rolling_min=500,\n",
    "    rolling_window_size=5,\n",
    "    cosmic_min = 3500,\n",
    "    cosmic_density_min = 250,\n",
    "    padding=75\n",
    ")\n",
    "\n",
    "panel_muts, regions_df, cosmic_scored = cosmic_panel_master(cosmic_scored,\n",
    "                                            filter_setting=custom_filter,\n",
    "                                            threads=10,\n",
    "                                            verbose=1\n",
    "                                            )"
   ]
  },
  {
   "cell_type": "markdown",
   "id": "ac62871f",
   "metadata": {
    "ExecuteTime": {
     "end_time": "2022-02-03T20:16:14.450144Z",
     "start_time": "2022-02-03T20:16:14.442662Z"
    }
   },
   "source": [
    "## analyse for the top genes and inclusion of panel genes"
   ]
  },
  {
   "cell_type": "markdown",
   "id": "469440f5",
   "metadata": {},
   "source": [
    "### look for the genes with highest accumulative clinscore in all cosmic"
   ]
  },
  {
   "cell_type": "code",
   "execution_count": 10,
   "id": "4aa31776",
   "metadata": {
    "ExecuteTime": {
     "end_time": "2022-02-15T12:02:04.879323Z",
     "start_time": "2022-02-15T12:02:04.624928Z"
    }
   },
   "outputs": [
    {
     "name": "stderr",
     "output_type": "stream",
     "text": [
      "/Users/martinszyska/Sites/Bio/pyseq/nb/../code/cosmic_panel.py:124: FutureWarning: The default value of regex will change from True to False in a future version.\n",
      "  genes['notes'] = genes['notes'].str.strip(\"|\").str.replace(r\"^[|]+$\", \"\", regex=True)\n"
     ]
    },
    {
     "data": {
      "text/html": [
       "<div>\n",
       "<style scoped>\n",
       "    .dataframe tbody tr th:only-of-type {\n",
       "        vertical-align: middle;\n",
       "    }\n",
       "\n",
       "    .dataframe tbody tr th {\n",
       "        vertical-align: top;\n",
       "    }\n",
       "\n",
       "    .dataframe thead th {\n",
       "        text-align: right;\n",
       "    }\n",
       "</style>\n",
       "<table border=\"1\" class=\"dataframe\">\n",
       "  <thead>\n",
       "    <tr style=\"text-align: right;\">\n",
       "      <th></th>\n",
       "      <th>Gene</th>\n",
       "      <th>cosmic_scoreDB</th>\n",
       "      <th>countOtherPanels</th>\n",
       "      <th>notes</th>\n",
       "    </tr>\n",
       "  </thead>\n",
       "  <tbody>\n",
       "    <tr>\n",
       "      <th>280</th>\n",
       "      <td>NTRK1</td>\n",
       "      <td>99492</td>\n",
       "      <td>3</td>\n",
       "      <td>im Panel sind- 2 und -3</td>\n",
       "    </tr>\n",
       "    <tr>\n",
       "      <th>454</th>\n",
       "      <td>NOTCH4</td>\n",
       "      <td>71806</td>\n",
       "      <td>1</td>\n",
       "      <td></td>\n",
       "    </tr>\n",
       "    <tr>\n",
       "      <th>483</th>\n",
       "      <td>CDK12</td>\n",
       "      <td>69072</td>\n",
       "      <td>1</td>\n",
       "      <td></td>\n",
       "    </tr>\n",
       "    <tr>\n",
       "      <th>489</th>\n",
       "      <td>PIK3CD</td>\n",
       "      <td>68630</td>\n",
       "      <td>1</td>\n",
       "      <td></td>\n",
       "    </tr>\n",
       "    <tr>\n",
       "      <th>525</th>\n",
       "      <td>RNF43</td>\n",
       "      <td>66475</td>\n",
       "      <td>1</td>\n",
       "      <td></td>\n",
       "    </tr>\n",
       "    <tr>\n",
       "      <th>547</th>\n",
       "      <td>NOTCH1</td>\n",
       "      <td>65134</td>\n",
       "      <td>2</td>\n",
       "      <td></td>\n",
       "    </tr>\n",
       "    <tr>\n",
       "      <th>816</th>\n",
       "      <td>MTOR</td>\n",
       "      <td>50429</td>\n",
       "      <td>1</td>\n",
       "      <td></td>\n",
       "    </tr>\n",
       "    <tr>\n",
       "      <th>820</th>\n",
       "      <td>DDR2</td>\n",
       "      <td>50268</td>\n",
       "      <td>3</td>\n",
       "      <td></td>\n",
       "    </tr>\n",
       "    <tr>\n",
       "      <th>871</th>\n",
       "      <td>MLH1</td>\n",
       "      <td>48190</td>\n",
       "      <td>1</td>\n",
       "      <td></td>\n",
       "    </tr>\n",
       "    <tr>\n",
       "      <th>985</th>\n",
       "      <td>AXIN2</td>\n",
       "      <td>43780</td>\n",
       "      <td>1</td>\n",
       "      <td></td>\n",
       "    </tr>\n",
       "  </tbody>\n",
       "</table>\n",
       "</div>"
      ],
      "text/plain": [
       "       Gene  cosmic_scoreDB  countOtherPanels                    notes\n",
       "280   NTRK1           99492                 3  im Panel sind- 2 und -3\n",
       "454  NOTCH4           71806                 1                         \n",
       "483   CDK12           69072                 1                         \n",
       "489  PIK3CD           68630                 1                         \n",
       "525   RNF43           66475                 1                         \n",
       "547  NOTCH1           65134                 2                         \n",
       "816    MTOR           50429                 1                         \n",
       "820    DDR2           50268                 3                         \n",
       "871    MLH1           48190                 1                         \n",
       "985   AXIN2           43780                 1                         "
      ]
     },
     "execution_count": 10,
     "metadata": {},
     "output_type": "execute_result"
    }
   ],
   "source": [
    "# get the gene info\n",
    "genes_excel_file = \"../testdata/ExampleGeneList.xlsx\"\n",
    "in_panel, cosmic_not_included, list_not_included = analyze_genes(panel_muts, cosmic_scored, save_excel=\"\", panel_excel=genes_excel_file)\n",
    "\n",
    "list_not_included[:10]"
   ]
  },
  {
   "cell_type": "markdown",
   "id": "121ba158",
   "metadata": {},
   "source": [
    "## try out different settings and then save"
   ]
  },
  {
   "cell_type": "code",
   "execution_count": null,
   "id": "77305355",
   "metadata": {
    "ExecuteTime": {
     "end_time": "2022-02-15T11:51:55.979315Z",
     "start_time": "2022-02-15T11:51:55.979310Z"
    }
   },
   "outputs": [],
   "source": [
    "save_excel = os.path.join(local_path, \"output/500k_panel_design3.xlsx\")\n",
    "\n",
    "# filter settings\n",
    "custom_filter = dict(\n",
    "    exonic_list = ['exonic', 'UTR3', 'UTR5', 'UTR5;UTR3', 'exonic;splicing'],\n",
    "    mut_list = ['nonsynonymous SNV', 'stopgain', 'startloss', 'stoploss', 'frameshift deletion', 'nonframeshift deletion'],\n",
    "    gnomad_max=1e-2,\n",
    "    cosmic_rolling_min=500,\n",
    "    rolling_window_size=5,\n",
    "    cosmic_min = 3300,\n",
    "    cosmic_density_min = 250,\n",
    "    padding=75\n",
    ")\n",
    "\n",
    "clinscore_file = os.path.join(local_path, \"info/clinscoreLung_with_geneboost2.yaml\")\n",
    "\n",
    "panel_muts, regions_df, cosmic_scored = cosmic_panel_master(cosmic_exon_df,cosmic_weights_file=clinscore_file, filter_setting=custom_filter,threads=10)\n",
    "\n",
    "in_panel, cosmic_not_included, panel_not_included = analyze_genes(panel_muts, cosmic_scored, panel_excel=genes_excel_file)\n",
    "panel_not_included"
   ]
  },
  {
   "cell_type": "code",
   "execution_count": null,
   "id": "ec2ada7a",
   "metadata": {
    "ExecuteTime": {
     "end_time": "2022-02-15T11:45:51.239219Z",
     "start_time": "2022-02-15T11:45:51.230185Z"
    }
   },
   "outputs": [],
   "source": [
    "def check_genes_in_cosmic(gene_list, min_score=100):\n",
    "    dfs = []\n",
    "    for gene in gene_list:\n",
    "        df = cosmic_scored.query(\"Gene == @gene and cosmic_score > @min_score\").sort_values('cosmic_score', ascending=False).drop(\"AAChange\", axis=1)\n",
    "        dfs.append(df)\n",
    "    df = pd.concat(dfs)\n",
    "    return df"
   ]
  },
  {
   "cell_type": "code",
   "execution_count": null,
   "id": "cbf45e3b",
   "metadata": {
    "ExecuteTime": {
     "start_time": "2022-02-15T11:47:16.271Z"
    }
   },
   "outputs": [],
   "source": [
    "check_genes_in_cosmic(gene_list = [\"NTRK1\", \"AXIN2\"], min_score=500)"
   ]
  },
  {
   "cell_type": "code",
   "execution_count": null,
   "id": "ca971499",
   "metadata": {},
   "outputs": [],
   "source": []
  }
 ],
 "metadata": {
  "kernelspec": {
   "display_name": "Python 3 (ipykernel)",
   "language": "python",
   "name": "python3"
  },
  "language_info": {
   "codemirror_mode": {
    "name": "ipython",
    "version": 3
   },
   "file_extension": ".py",
   "mimetype": "text/x-python",
   "name": "python",
   "nbconvert_exporter": "python",
   "pygments_lexer": "ipython3",
   "version": "3.10.2"
  },
  "latex_envs": {
   "LaTeX_envs_menu_present": true,
   "autoclose": false,
   "autocomplete": true,
   "bibliofile": "biblio.bib",
   "cite_by": "apalike",
   "current_citInitial": 1,
   "eqLabelWithNumbers": true,
   "eqNumInitial": 1,
   "hotkeys": {
    "equation": "Ctrl-E",
    "itemize": "Ctrl-I"
   },
   "labels_anchors": false,
   "latex_user_defs": false,
   "report_style_numbering": false,
   "user_envs_cfg": false
  },
  "varInspector": {
   "cols": {
    "lenName": 16,
    "lenType": 16,
    "lenVar": 40
   },
   "kernels_config": {
    "python": {
     "delete_cmd_postfix": "",
     "delete_cmd_prefix": "del ",
     "library": "var_list.py",
     "varRefreshCmd": "print(var_dic_list())"
    },
    "r": {
     "delete_cmd_postfix": ") ",
     "delete_cmd_prefix": "rm(",
     "library": "var_list.r",
     "varRefreshCmd": "cat(var_dic_list()) "
    }
   },
   "types_to_exclude": [
    "module",
    "function",
    "builtin_function_or_method",
    "instance",
    "_Feature"
   ],
   "window_display": false
  }
 },
 "nbformat": 4,
 "nbformat_minor": 5
}

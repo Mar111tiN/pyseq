{
 "cells": [
  {
   "cell_type": "markdown",
   "id": "43b593fd",
   "metadata": {},
   "source": [
    "## Creating a custom panel for use in small sequencers for LungCancerMutations\n",
    "\n",
    "### Strategy: Look for mutational hotspots for lung cancer in the COSMIC Database"
   ]
  },
  {
   "cell_type": "code",
   "execution_count": null,
   "id": "49022a20",
   "metadata": {
    "ExecuteTime": {
     "end_time": "2022-02-15T13:46:28.191159Z",
     "start_time": "2022-02-15T13:46:28.171646Z"
    }
   },
   "outputs": [],
   "source": [
    "# some sensible settings for better output\n",
    "import os\n",
    "import pandas as pd\n",
    "from IPython.display import display\n",
    "pd.set_option('display.max_columns', None)\n",
    "pd.set_option('display.max_rows', 200)\n",
    "from IPython.core.interactiveshell import InteractiveShell\n",
    "InteractiveShell.ast_node_interactivity = \"all\"\n",
    "pd.set_option('max_colwidth', 200)\n",
    "\n",
    "\n",
    "# get the code\n",
    "import sys\n",
    "sys.path.append('../code')\n",
    "from script_utils import show_output\n",
    "\n",
    "# paths\n",
    "static_path = os.path.join(os.environ['STATIC'], \"annotation/clinical\")"
   ]
  },
  {
   "cell_type": "markdown",
   "id": "0d6558a2",
   "metadata": {},
   "source": [
    "## putting it all together"
   ]
  },
  {
   "cell_type": "code",
   "execution_count": null,
   "id": "958ae19f",
   "metadata": {
    "ExecuteTime": {
     "end_time": "2022-02-15T13:46:35.852370Z",
     "start_time": "2022-02-15T13:46:28.548807Z"
    }
   },
   "outputs": [],
   "source": [
    "from cosmic_panel import cosmic_panel_master, analyze_genes\n",
    "# load exonic annotations\n",
    "cosmic_exon_path = os.path.join(static_path, \"cosmic_exon.csv\")\n",
    "cosmic_exon_df = pd.read_csv(cosmic_exon_path, sep=\"\\t\", compression=\"gzip\")"
   ]
  },
  {
   "cell_type": "code",
   "execution_count": null,
   "id": "0c057670",
   "metadata": {
    "ExecuteTime": {
     "end_time": "2022-02-15T13:46:59.838328Z",
     "start_time": "2022-02-15T13:46:36.014784Z"
    }
   },
   "outputs": [],
   "source": [
    "# filter settings\n",
    "custom_filter = dict(\n",
    "    exonic_list = ['exonic', 'UTR3', 'UTR5', 'UTR5;UTR3', 'exonic;splicing'],\n",
    "    mut_list = ['nonsynonymous SNV', 'stopgain', 'startloss', 'stoploss', 'frameshift deletion', 'nonframeshift deletion'],\n",
    "    gnomad_max=1e-2,\n",
    "    cosmic_rolling_min=500,\n",
    "    rolling_window_size=5,\n",
    "    cosmic_min = 3500,\n",
    "    cosmic_density_min = 250,\n",
    "    padding=75\n",
    ")\n",
    "\n",
    "clinscore_file = \"../configs/clinscoreLung.yaml\"\n",
    "\n",
    "panel_muts, regions_df, cosmic_scored = cosmic_panel_master(cosmic_exon_df,\n",
    "                                              cosmic_weights_file=clinscore_file, \n",
    "                                              filter_setting=custom_filter,\n",
    "                                                threads=10,\n",
    "                                              verbose=1\n",
    "                                             )"
   ]
  },
  {
   "cell_type": "markdown",
   "id": "6d5e0967",
   "metadata": {},
   "source": [
    "### reruns can be performed without re-computing the cosmic scores\n",
    "+ just use the last output from previous run (`cosmic_scored`) as input and remove the cosmic_weights file, so the tool knows you do not want to recompute the clinscores"
   ]
  },
  {
   "cell_type": "code",
   "execution_count": null,
   "id": "005a00b6",
   "metadata": {
    "ExecuteTime": {
     "end_time": "2022-02-15T13:47:00.726553Z",
     "start_time": "2022-02-15T13:47:00.206519Z"
    }
   },
   "outputs": [],
   "source": [
    "custom_filter = dict(\n",
    "    exonic_list = ['exonic', 'UTR3', 'UTR5', 'UTR5;UTR3', 'exonic;splicing'],\n",
    "    mut_list = ['nonsynonymous SNV', 'stopgain', 'startloss', 'stoploss', 'frameshift deletion', 'nonframeshift deletion'],\n",
    "    gnomad_max=1e-2,\n",
    "    cosmic_rolling_min=500,\n",
    "    rolling_window_size=5,\n",
    "    cosmic_min = 3500,\n",
    "    cosmic_density_min = 250,\n",
    "    padding=75\n",
    ")\n",
    "\n",
    "panel_muts, regions_df, cosmic_scored = cosmic_panel_master(cosmic_scored,\n",
    "                                            filter_setting=custom_filter,\n",
    "                                            threads=10,\n",
    "                                            verbose=1\n",
    "                                            )"
   ]
  },
  {
   "cell_type": "markdown",
   "id": "8c9afe0a",
   "metadata": {
    "ExecuteTime": {
     "end_time": "2022-02-15T12:23:39.921826Z",
     "start_time": "2022-02-15T12:23:39.912487Z"
    }
   },
   "source": [
    "### if special genes are very important you can add a genespecific booster\n",
    "+ just use the last output from previous run (`cosmic_scored`) as input and remove the cosmic_weights file, so the tool knows you do not want to recompute the clinscores"
   ]
  },
  {
   "cell_type": "code",
   "execution_count": null,
   "id": "498b0569",
   "metadata": {
    "ExecuteTime": {
     "end_time": "2022-02-15T13:47:26.951167Z",
     "start_time": "2022-02-15T13:47:01.096260Z"
    }
   },
   "outputs": [],
   "source": [
    "# filter settings\n",
    "custom_filter = dict(\n",
    "    exonic_list = ['exonic', 'UTR3', 'UTR5', 'UTR5;UTR3', 'exonic;splicing'],\n",
    "    mut_list = ['nonsynonymous SNV', 'stopgain', 'startloss', 'stoploss', 'frameshift deletion', 'nonframeshift deletion'],\n",
    "    gnomad_max=1e-2,\n",
    "    cosmic_rolling_min=500,\n",
    "    rolling_window_size=5,\n",
    "    cosmic_min = 3500,\n",
    "    cosmic_density_min = 250,\n",
    "    padding=75\n",
    ")\n",
    "\n",
    "clinscore_file = \"../configs/clinscoreLung_with_geneboost.yaml\"\n",
    "\n",
    "panel_muts, regions_df, cosmic_boosted = cosmic_panel_master(cosmic_exon_df,\n",
    "                                              cosmic_weights_file=clinscore_file, \n",
    "                                              filter_setting=custom_filter,\n",
    "                                                threads=10,\n",
    "                                              verbose=1\n",
    "                                             )"
   ]
  },
  {
   "cell_type": "markdown",
   "id": "ac62871f",
   "metadata": {
    "ExecuteTime": {
     "end_time": "2022-02-03T20:16:14.450144Z",
     "start_time": "2022-02-03T20:16:14.442662Z"
    }
   },
   "source": [
    "## analyse for the top genes and inclusion of panel genes"
   ]
  },
  {
   "cell_type": "markdown",
   "id": "469440f5",
   "metadata": {},
   "source": [
    "### look for the genes with highest accumulative clinscore in all cosmic\n",
    "+ for this analysis, I would recommend using the non-boosted cosmic scores"
   ]
  },
  {
   "cell_type": "code",
   "execution_count": null,
   "id": "4aa31776",
   "metadata": {
    "ExecuteTime": {
     "end_time": "2022-02-15T13:47:27.519678Z",
     "start_time": "2022-02-15T13:47:27.383319Z"
    }
   },
   "outputs": [],
   "source": [
    "# get the gene info\n",
    "genes_excel_file = \"../testdata/ExampleGeneList.xlsx\"\n",
    "in_panel, cosmic_not_included, list_not_included = analyze_genes(panel_muts, cosmic_scored, save_excel=\"\", panel_excel=genes_excel_file)\n",
    "\n",
    "list_not_included[:10]"
   ]
  },
  {
   "cell_type": "markdown",
   "id": "f30f185f",
   "metadata": {},
   "source": [
    "## try out different settings and then save"
   ]
  },
  {
   "cell_type": "code",
   "execution_count": null,
   "id": "8020a891",
   "metadata": {
    "ExecuteTime": {
     "end_time": "2022-02-15T13:47:55.891818Z",
     "start_time": "2022-02-15T13:47:28.053116Z"
    }
   },
   "outputs": [],
   "source": [
    "local_path = os.path.join(os.environ['WORK'], \"LO/Sequencing/LungCustomPanel\")\n",
    "save_excel = os.path.join(local_path, \"output/500k_panel_design3.xlsx\")\n",
    "clinscore_file = os.path.join(local_path, \"info/clinscoreLung_with_geneboost2.yaml\")\n",
    "panel_file = os.path.join(local_path, \"info/GeneList4Inclusion.xlsx\")\n",
    "\n",
    "# filter settings\n",
    "custom_filter = dict(\n",
    "    exonic_list = ['exonic', 'UTR3', 'UTR5', 'UTR5;UTR3', 'exonic;splicing'],\n",
    "    mut_list = ['nonsynonymous SNV', 'stopgain', 'startloss', 'stoploss', 'frameshift deletion', 'nonframeshift deletion'],\n",
    "    gnomad_max=1e-2,\n",
    "    cosmic_rolling_min=500,\n",
    "    rolling_window_size=5,\n",
    "    cosmic_min = 3300,\n",
    "    cosmic_density_min = 250,\n",
    "    padding=75\n",
    ")\n",
    "\n",
    "panel_muts, regions_df, cosmic_scored_boost = cosmic_panel_master(cosmic_exon_df,cosmic_weights_file=clinscore_file, filter_setting=custom_filter,threads=10)"
   ]
  },
  {
   "cell_type": "code",
   "execution_count": null,
   "id": "13623ea5",
   "metadata": {
    "ExecuteTime": {
     "end_time": "2022-02-15T13:47:58.175997Z",
     "start_time": "2022-02-15T13:47:56.484655Z"
    }
   },
   "outputs": [],
   "source": [
    "# filter settings\n",
    "custom_filter = dict(\n",
    "    exonic_list = ['exonic', 'UTR3', 'UTR5', 'UTR5;UTR3', 'exonic;splicing'],\n",
    "    mut_list = ['nonsynonymous SNV', 'stopgain', 'startloss', 'stoploss', 'frameshift deletion', 'nonframeshift deletion'],\n",
    "    gnomad_max=1e-2,\n",
    "    cosmic_rolling_min=500,\n",
    "    rolling_window_size=5,\n",
    "    cosmic_min = 3100,\n",
    "    cosmic_density_min = 300,\n",
    "    padding=75\n",
    ")\n",
    "panel_muts, regions_df, cosmic_scored_boost = cosmic_panel_master(cosmic_scored_boost, filter_setting=custom_filter,threads=10)\n",
    "\n",
    "in_panel, cosmic_not_included, panel_not_included = analyze_genes(panel_muts, cosmic_scored, panel_excel=panel_file, save_excel=save_excel)"
   ]
  },
  {
   "cell_type": "code",
   "execution_count": null,
   "id": "5fff44d5",
   "metadata": {
    "ExecuteTime": {
     "end_time": "2022-02-15T13:47:58.806097Z",
     "start_time": "2022-02-15T13:47:58.801566Z"
    }
   },
   "outputs": [],
   "source": [
    "panel_not_included.sort_values(\"Gene\")"
   ]
  },
  {
   "cell_type": "code",
   "execution_count": null,
   "id": "f7f24945",
   "metadata": {
    "ExecuteTime": {
     "end_time": "2022-02-15T13:47:59.456684Z",
     "start_time": "2022-02-15T13:47:59.454850Z"
    }
   },
   "outputs": [],
   "source": [
    "def check_genes_in_cosmic(gene_list, min_score=500):\n",
    "    dfs = []\n",
    "    for gene in gene_list:\n",
    "        df = cosmic_scored.query(\"Gene == @gene and cosmic_score > @min_score\").sort_values('cosmic_score', ascending=False).drop(\"AAChange\", axis=1)\n",
    "        dfs.append(df)\n",
    "    df = pd.concat(dfs)\n",
    "    return df"
   ]
  },
  {
   "cell_type": "code",
   "execution_count": null,
   "id": "e4e04409",
   "metadata": {
    "ExecuteTime": {
     "end_time": "2022-02-15T13:48:00.096037Z",
     "start_time": "2022-02-15T13:48:00.074525Z"
    }
   },
   "outputs": [],
   "source": [
    "check_genes_in_cosmic(['GNAQ', 'GNA11', 'MTOR'])"
   ]
  },
  {
   "cell_type": "code",
   "execution_count": null,
   "id": "2e2e75d6",
   "metadata": {
    "ExecuteTime": {
     "end_time": "2022-02-15T12:48:01.185478Z",
     "start_time": "2022-02-15T12:48:01.144543Z"
    }
   },
   "outputs": [],
   "source": [
    "check_genes_in_cosmic(['TGFBR2', 'ACVR2A'])"
   ]
  },
  {
   "cell_type": "code",
   "execution_count": null,
   "id": "2f24588c",
   "metadata": {
    "ExecuteTime": {
     "end_time": "2022-02-15T12:43:36.621186Z",
     "start_time": "2022-02-15T12:43:36.584149Z"
    }
   },
   "outputs": [],
   "source": [
    "check_genes_in_cosmic(['SMAD1','SMAD3'])"
   ]
  },
  {
   "cell_type": "code",
   "execution_count": null,
   "id": "871fa155",
   "metadata": {
    "ExecuteTime": {
     "end_time": "2022-02-15T13:08:29.467562Z",
     "start_time": "2022-02-15T13:08:29.404393Z"
    }
   },
   "outputs": [],
   "source": [
    "check_genes_in_cosmic(['CDKN1B', 'CDKN2B','CDKN2C', 'CDK12'])"
   ]
  },
  {
   "cell_type": "code",
   "execution_count": null,
   "id": "56885263",
   "metadata": {
    "ExecuteTime": {
     "end_time": "2022-02-15T12:41:05.174018Z",
     "start_time": "2022-02-15T12:41:05.108145Z"
    }
   },
   "outputs": [],
   "source": [
    "check_genes_in_cosmic(['CDK6', 'CCND2', 'NOTCH4', 'KIT'])"
   ]
  },
  {
   "cell_type": "code",
   "execution_count": null,
   "id": "245daa13",
   "metadata": {},
   "outputs": [],
   "source": []
  }
 ],
 "metadata": {
  "kernelspec": {
   "display_name": "Python 3 (ipykernel)",
   "language": "python",
   "name": "python3"
  },
  "language_info": {
   "codemirror_mode": {
    "name": "ipython",
    "version": 3
   },
   "file_extension": ".py",
   "mimetype": "text/x-python",
   "name": "python",
   "nbconvert_exporter": "python",
   "pygments_lexer": "ipython3",
   "version": "3.10.2"
  },
  "latex_envs": {
   "LaTeX_envs_menu_present": true,
   "autoclose": false,
   "autocomplete": true,
   "bibliofile": "biblio.bib",
   "cite_by": "apalike",
   "current_citInitial": 1,
   "eqLabelWithNumbers": true,
   "eqNumInitial": 1,
   "hotkeys": {
    "equation": "Ctrl-E",
    "itemize": "Ctrl-I"
   },
   "labels_anchors": false,
   "latex_user_defs": false,
   "report_style_numbering": false,
   "user_envs_cfg": false
  },
  "varInspector": {
   "cols": {
    "lenName": 16,
    "lenType": 16,
    "lenVar": 40
   },
   "kernels_config": {
    "python": {
     "delete_cmd_postfix": "",
     "delete_cmd_prefix": "del ",
     "library": "var_list.py",
     "varRefreshCmd": "print(var_dic_list())"
    },
    "r": {
     "delete_cmd_postfix": ") ",
     "delete_cmd_prefix": "rm(",
     "library": "var_list.r",
     "varRefreshCmd": "cat(var_dic_list()) "
    }
   },
   "types_to_exclude": [
    "module",
    "function",
    "builtin_function_or_method",
    "instance",
    "_Feature"
   ],
   "window_display": false
  }
 },
 "nbformat": 4,
 "nbformat_minor": 5
}

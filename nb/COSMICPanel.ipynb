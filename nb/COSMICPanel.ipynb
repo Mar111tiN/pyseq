{
 "cells": [
  {
   "cell_type": "markdown",
   "id": "43b593fd",
   "metadata": {},
   "source": [
    "## Creating a custom panel for use in small sequencers for LungCancerMutations\n",
    "\n",
    "### Strategy: Look for mutational hotspots for lung cancer in the COSMIC Database"
   ]
  },
  {
   "cell_type": "code",
   "execution_count": null,
   "id": "49022a20",
   "metadata": {
    "ExecuteTime": {
     "end_time": "2022-02-06T16:45:50.575765Z",
     "start_time": "2022-02-06T16:45:50.561687Z"
    }
   },
   "outputs": [],
   "source": [
    "# some sensible settings for better output\n",
    "import os\n",
    "import pandas as pd\n",
    "from IPython.display import display\n",
    "pd.set_option('display.max_columns', None)\n",
    "from IPython.core.interactiveshell import InteractiveShell\n",
    "InteractiveShell.ast_node_interactivity = \"all\"\n",
    "pd.set_option('max_colwidth', 200)\n",
    "\n",
    "\n",
    "# get the code\n",
    "import sys\n",
    "sys.path.append('../code')\n",
    "from script_utils import show_output\n",
    "\n",
    "# paths\n",
    "static_path = os.path.join(os.environ['STATIC'], \"annotation/clinical\")\n",
    "local_path = os.path.join(os.environ['WORK'], \"LO/Sequencing/LungCustomPanel/output\")"
   ]
  },
  {
   "cell_type": "markdown",
   "id": "0d6558a2",
   "metadata": {},
   "source": [
    "## putting it all together"
   ]
  },
  {
   "cell_type": "code",
   "execution_count": null,
   "id": "958ae19f",
   "metadata": {
    "ExecuteTime": {
     "end_time": "2022-02-06T16:45:58.349823Z",
     "start_time": "2022-02-06T16:45:51.111303Z"
    }
   },
   "outputs": [],
   "source": [
    "from cosmic_panel import cosmic_panel_master\n",
    "from cosmic_panel import analyze_genes\n",
    "# load exonic annotations\n",
    "cosmic_exon_path = os.path.join(static_path, \"cosmic_exon.csv\")\n",
    "cosmic_exon_df = pd.read_csv(cosmic_exon_path, sep=\"\\t\", compression=\"gzip\")"
   ]
  },
  {
   "cell_type": "code",
   "execution_count": null,
   "id": "0c057670",
   "metadata": {
    "ExecuteTime": {
     "end_time": "2022-02-06T16:55:12.698479Z",
     "start_time": "2022-02-06T16:54:49.362600Z"
    }
   },
   "outputs": [],
   "source": [
    "# filter settings\n",
    "custom_filter = dict(\n",
    "    exonic_list = ['exonic', 'UTR3', 'UTR5', 'UTR5;UTR3', 'exonic;splicing'],\n",
    "    mut_list = ['nonsynonymous SNV', 'stopgain', 'startloss', 'stoploss', 'frameshift deletion', 'nonframeshift deletion'],\n",
    "    gnomad_max=1e-2,\n",
    "    cosmic_rolling_min=500,\n",
    "    rolling_window_size=5,\n",
    "    cosmic_min = 3500,\n",
    "    cosmic_density_min = 150,\n",
    "    padding=75\n",
    ")\n",
    "\n",
    "clinscore_file = \"../configs/clinscoreLung.yaml\"\n",
    "\n",
    "cosmic_muts, gene_df, _, cosmic_scored = cosmic_panel_master(cosmic_exon_df,\n",
    "                                              cosmic_weights_file=clinscore_file, \n",
    "                                              filter_setting=custom_filter,\n",
    "                                                threads=8,\n",
    "                                              verbose=1\n",
    "                                             )"
   ]
  },
  {
   "cell_type": "markdown",
   "id": "6d5e0967",
   "metadata": {},
   "source": [
    "### reruns can be performed without re-computing the cosmic scores\n",
    "+ just use the last output from previous run and remove the cosmic_weights file"
   ]
  },
  {
   "cell_type": "code",
   "execution_count": null,
   "id": "9cc62fe6",
   "metadata": {
    "ExecuteTime": {
     "end_time": "2022-02-06T16:54:13.844425Z",
     "start_time": "2022-02-06T16:54:13.780827Z"
    }
   },
   "outputs": [],
   "source": [
    "cosmic_scored.query(\"Gene == 'BRCA2'\").sort_values('cosmic_score', ascending=False)"
   ]
  },
  {
   "cell_type": "code",
   "execution_count": null,
   "id": "005a00b6",
   "metadata": {
    "ExecuteTime": {
     "end_time": "2022-02-06T16:47:06.440567Z",
     "start_time": "2022-02-06T16:47:05.192947Z"
    }
   },
   "outputs": [],
   "source": [
    "custom_filter = dict(\n",
    "    exonic_list = ['exonic', 'UTR3', 'UTR5', 'UTR5;UTR3', 'exonic;splicing'],\n",
    "    mut_list = ['nonsynonymous SNV', 'stopgain', 'startloss', 'stoploss', 'frameshift deletion', 'nonframeshift deletion'],\n",
    "    gnomad_max=1e-2,\n",
    "    cosmic_rolling_min=1000,\n",
    "    rolling_window_size=5,\n",
    "    cosmic_min = 3300,\n",
    "    cosmic_density_min = 250,\n",
    "    padding=75\n",
    ")\n",
    "\n",
    "cosmic_muts, gene_df, group_df, cosmic_scored = cosmic_panel_master(cosmic_scored, cosmic_weights_file=\"\", filter_setting=custom_filter, verbose=1)"
   ]
  },
  {
   "cell_type": "markdown",
   "id": "ac62871f",
   "metadata": {
    "ExecuteTime": {
     "end_time": "2022-02-03T20:16:14.450144Z",
     "start_time": "2022-02-03T20:16:14.442662Z"
    }
   },
   "source": [
    "## analyse for the top genes and inclusion of panel genes"
   ]
  },
  {
   "cell_type": "markdown",
   "id": "469440f5",
   "metadata": {},
   "source": [
    "### look for the genes with highest accumulative clinscore in all cosmic"
   ]
  },
  {
   "cell_type": "markdown",
   "id": "183ec557",
   "metadata": {},
   "source": [
    "### including gene information"
   ]
  },
  {
   "cell_type": "code",
   "execution_count": null,
   "id": "7805af69",
   "metadata": {
    "ExecuteTime": {
     "end_time": "2022-02-06T16:47:30.196915Z",
     "start_time": "2022-02-06T16:47:30.187677Z"
    }
   },
   "outputs": [],
   "source": [
    "genes_excel_file = \"/Users/martinszyska/Desktop/GeneList.xlsx\"\n",
    "save_excel = os.path.join(local_path, \"panel_design.xlsx\")\n"
   ]
  },
  {
   "cell_type": "code",
   "execution_count": null,
   "id": "31a3e0af",
   "metadata": {
    "ExecuteTime": {
     "end_time": "2022-02-06T16:47:36.169912Z",
     "start_time": "2022-02-06T16:47:34.898682Z"
    }
   },
   "outputs": [],
   "source": [
    "in_panel, cosmic_not_included, list_not_included = analyze_genes(cosmic_muts, gene_df, group_df, cosmic_scored, panel_excel=genes_excel_file, save_excel=save_excel)"
   ]
  },
  {
   "cell_type": "code",
   "execution_count": null,
   "id": "43b9fcb4",
   "metadata": {
    "ExecuteTime": {
     "end_time": "2022-02-03T20:43:36.395733Z",
     "start_time": "2022-02-03T20:43:36.380184Z"
    }
   },
   "outputs": [],
   "source": [
    "genelist_not_included"
   ]
  },
  {
   "cell_type": "code",
   "execution_count": null,
   "id": "158360cf",
   "metadata": {},
   "outputs": [],
   "source": []
  }
 ],
 "metadata": {
  "kernelspec": {
   "display_name": "Python 3 (ipykernel)",
   "language": "python",
   "name": "python3"
  },
  "language_info": {
   "codemirror_mode": {
    "name": "ipython",
    "version": 3
   },
   "file_extension": ".py",
   "mimetype": "text/x-python",
   "name": "python",
   "nbconvert_exporter": "python",
   "pygments_lexer": "ipython3",
   "version": "3.10.2"
  },
  "latex_envs": {
   "LaTeX_envs_menu_present": true,
   "autoclose": false,
   "autocomplete": true,
   "bibliofile": "biblio.bib",
   "cite_by": "apalike",
   "current_citInitial": 1,
   "eqLabelWithNumbers": true,
   "eqNumInitial": 1,
   "hotkeys": {
    "equation": "Ctrl-E",
    "itemize": "Ctrl-I"
   },
   "labels_anchors": false,
   "latex_user_defs": false,
   "report_style_numbering": false,
   "user_envs_cfg": false
  },
  "varInspector": {
   "cols": {
    "lenName": 16,
    "lenType": 16,
    "lenVar": 40
   },
   "kernels_config": {
    "python": {
     "delete_cmd_postfix": "",
     "delete_cmd_prefix": "del ",
     "library": "var_list.py",
     "varRefreshCmd": "print(var_dic_list())"
    },
    "r": {
     "delete_cmd_postfix": ") ",
     "delete_cmd_prefix": "rm(",
     "library": "var_list.r",
     "varRefreshCmd": "cat(var_dic_list()) "
    }
   },
   "types_to_exclude": [
    "module",
    "function",
    "builtin_function_or_method",
    "instance",
    "_Feature"
   ],
   "window_display": false
  }
 },
 "nbformat": 4,
 "nbformat_minor": 5
}

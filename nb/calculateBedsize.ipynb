{
 "cells": [
  {
   "cell_type": "markdown",
   "id": "086458f2",
   "metadata": {},
   "source": [
    "### calculate panel design size from bed-file\n",
    "+ overlapping regions have to be subtracted!"
   ]
  },
  {
   "cell_type": "code",
   "execution_count": null,
   "id": "2123f23b",
   "metadata": {
    "ExecuteTime": {
     "end_time": "2022-02-04T15:05:48.874855Z",
     "start_time": "2022-02-04T15:05:48.861291Z"
    }
   },
   "outputs": [],
   "source": [
    "# some sensible settings for better output\n",
    "import os\n",
    "import pandas as pd\n",
    "from IPython.display import display\n",
    "pd.set_option('display.max_columns', None)\n",
    "from IPython.core.interactiveshell import InteractiveShell\n",
    "InteractiveShell.ast_node_interactivity = \"all\"\n",
    "pd.set_option('max_colwidth', 200)\n",
    "\n",
    "\n",
    "# get the code\n",
    "import sys\n",
    "sys.path.append('../code')\n",
    "from script_utils import show_output\n",
    "\n",
    "# paths\n",
    "static_path = os.path.join(os.environ['STATIC'], \"annotation/clinical\")\n",
    "local_path = os.path.join(os.environ['WORK'], \"LO/Sequencing/LungCustomPanel\")"
   ]
  },
  {
   "cell_type": "code",
   "execution_count": null,
   "id": "09de401e",
   "metadata": {
    "ExecuteTime": {
     "end_time": "2022-02-04T15:05:49.447180Z",
     "start_time": "2022-02-04T15:05:49.332807Z"
    }
   },
   "outputs": [],
   "source": [
    "from pyseq_utils import get_bedsize\n",
    "\n",
    "bed_file = os.path.join(local_path, \"nNGM2_Panel.bed\")\n",
    "bed_size = get_bedsize(bed_file)"
   ]
  },
  {
   "cell_type": "markdown",
   "id": "142932cf",
   "metadata": {},
   "source": [
    "### testing for HAEv7"
   ]
  },
  {
   "cell_type": "code",
   "execution_count": null,
   "id": "d20791b8",
   "metadata": {
    "ExecuteTime": {
     "end_time": "2022-02-04T15:16:17.443308Z",
     "start_time": "2022-02-04T15:16:16.351573Z"
    }
   },
   "outputs": [],
   "source": [
    "bed_file = \"/Users/martinszyska/Dropbox/Icke/Work/static/hg38/bed_files/SureSelect/SS_HAEv7_hg38_Covered.bed\"\n",
    "bed_size = get_bedsize(bed_file)"
   ]
  },
  {
   "cell_type": "markdown",
   "id": "728a1249",
   "metadata": {
    "ExecuteTime": {
     "end_time": "2022-02-04T14:48:39.750435Z",
     "start_time": "2022-02-04T14:48:39.736002Z"
    }
   },
   "source": [
    "### testing for HAEv8"
   ]
  },
  {
   "cell_type": "code",
   "execution_count": null,
   "id": "7fc78110",
   "metadata": {
    "ExecuteTime": {
     "end_time": "2022-02-04T15:19:01.864253Z",
     "start_time": "2022-02-04T15:19:00.639268Z"
    }
   },
   "outputs": [],
   "source": [
    "bed_file = \"/Users/martinszyska/Dropbox/Icke/Work/static/hg38/bed_files/SureSelect/SS_HAEv8_hg38_Covered.bed\"\n",
    "bed_size = get_bedsize(bed_file)"
   ]
  },
  {
   "cell_type": "code",
   "execution_count": null,
   "id": "d8583630",
   "metadata": {},
   "outputs": [],
   "source": []
  }
 ],
 "metadata": {
  "kernelspec": {
   "display_name": "Python 3 (ipykernel)",
   "language": "python",
   "name": "python3"
  },
  "language_info": {
   "codemirror_mode": {
    "name": "ipython",
    "version": 3
   },
   "file_extension": ".py",
   "mimetype": "text/x-python",
   "name": "python",
   "nbconvert_exporter": "python",
   "pygments_lexer": "ipython3",
   "version": "3.10.2"
  },
  "latex_envs": {
   "LaTeX_envs_menu_present": true,
   "autoclose": false,
   "autocomplete": true,
   "bibliofile": "biblio.bib",
   "cite_by": "apalike",
   "current_citInitial": 1,
   "eqLabelWithNumbers": true,
   "eqNumInitial": 1,
   "hotkeys": {
    "equation": "Ctrl-E",
    "itemize": "Ctrl-I"
   },
   "labels_anchors": false,
   "latex_user_defs": false,
   "report_style_numbering": false,
   "user_envs_cfg": false
  },
  "varInspector": {
   "cols": {
    "lenName": 16,
    "lenType": 16,
    "lenVar": 40
   },
   "kernels_config": {
    "python": {
     "delete_cmd_postfix": "",
     "delete_cmd_prefix": "del ",
     "library": "var_list.py",
     "varRefreshCmd": "print(var_dic_list())"
    },
    "r": {
     "delete_cmd_postfix": ") ",
     "delete_cmd_prefix": "rm(",
     "library": "var_list.r",
     "varRefreshCmd": "cat(var_dic_list()) "
    }
   },
   "types_to_exclude": [
    "module",
    "function",
    "builtin_function_or_method",
    "instance",
    "_Feature"
   ],
   "window_display": false
  }
 },
 "nbformat": 4,
 "nbformat_minor": 5
}

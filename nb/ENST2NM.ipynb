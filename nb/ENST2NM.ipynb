{
 "cells": [
  {
   "cell_type": "markdown",
   "id": "90c6b71c",
   "metadata": {},
   "source": [
    "### use the MANE Database"
   ]
  },
  {
   "cell_type": "code",
   "execution_count": null,
   "id": "c73e6bea",
   "metadata": {},
   "outputs": [],
   "source": [
    "df = pd.read_csv(\"/Users/martinszyska/Dropbox/Icke/Work/10x/ref/MANE_hg38_v0.95.gtf\", sep=\"\\t\", header=None).loc[:, [2,8]].rename({2:\"Type\", 8:\"Info\"}, axis=1).query(\"Type == 'transcript'\")\n",
    "df"
   ]
  },
  {
   "cell_type": "code",
   "execution_count": null,
   "id": "1bc2eaea",
   "metadata": {},
   "outputs": [],
   "source": [
    "df[\"ENSID\"] = df['Info'].str.extract(\"transcript_id \\\"(ENST[0-9.]+)\")\n",
    "df['RefID'] = df['Info'].str.extract(\"RefSeq:(NM_[0-9.]+)\")\n",
    "df = df.loc[:, [\"RefID\", \"ENSID\"]].sort_values(\"RefID\").reset_index(drop=True)\n",
    "df"
   ]
  },
  {
   "cell_type": "code",
   "execution_count": null,
   "id": "cc4588e1",
   "metadata": {},
   "outputs": [],
   "source": [
    "df.to_csv(\"/Users/martinszyska/Dropbox/Icke/Work/10x/ref/ENST2NM.csv\", sep=\"\\t\", i^ndex=False)"
   ]
  },
  {
   "cell_type": "markdown",
   "id": "3c504a1c",
   "metadata": {},
   "source": [
    "### REFSEQ"
   ]
  },
  {
   "cell_type": "code",
   "execution_count": null,
   "id": "1f7826b1",
   "metadata": {},
   "outputs": [],
   "source": [
    "# get the refseq DB\n",
    "df = pd.read_csv(\"/Users/martinszyska/Dropbox/Icke/Work/10x/ref/RefSeq_hg38.gtf\", sep=\"\\t\", header=None).loc[:, [2,8]].rename({2:\"Type\", 8:\"Info\"}, axis=1).query(\"Type == 'mRNA'\")\n",
    "df"
   ]
  },
  {
   "cell_type": "code",
   "execution_count": null,
   "id": "e448c8d5",
   "metadata": {},
   "outputs": [],
   "source": [
    "df[\"ENSID\"] = df['Info'].str.extract(\"Ensembl:(ENST[0-9.]+)\")\n",
    "df[\"Gene\"] = df['Info'].str.extract(\"gene=([A-Z0-9]+)\")\n",
    "df['RefID'] = df['Info'].str.extract(\"ID=rna-(NM_[0-9.]+)\")"
   ]
  },
  {
   "cell_type": "code",
   "execution_count": null,
   "id": "c97469f6",
   "metadata": {},
   "outputs": [],
   "source": [
    "df = df.query(\"ENSID == ENSID\").loc[:, [\"Gene\", \"RefID\", \"ENSID\"]].sort_values(\"RefID\").reset_index(drop=True)\n",
    "df"
   ]
  },
  {
   "cell_type": "code",
   "execution_count": null,
   "id": "265aebaf",
   "metadata": {},
   "outputs": [],
   "source": [
    "df_mrna.to_csv(\"/Users/martinszyska/Dropbox/Icke/Work/10x/ref/ENST2NM.csv\", sep=\"\\t\", index=False)"
   ]
  },
  {
   "cell_type": "markdown",
   "id": "2427b6d8",
   "metadata": {},
   "source": [
    "### get the full Exon data"
   ]
  },
  {
   "cell_type": "code",
   "execution_count": null,
   "id": "53a9fa05",
   "metadata": {},
   "outputs": [],
   "source": [
    "df = df.query(\"Type == 'exon'\")\n",
    "df"
   ]
  },
  {
   "cell_type": "code",
   "execution_count": null,
   "id": "4f660925",
   "metadata": {},
   "outputs": [],
   "source": [
    "df = pd.read_csv(\"/Users/martinszyska/Downloads/GRCh38_latest_genomic.gtf\", sep=\"\\t\", header=None).loc[:, [0,2,3,4,8]].rename({0:\"Chr\", 2:\"Type\", 3:\"Start\", 4:\"End\", 8:\"Info\"}, axis=1).query(\"Type == 'exon'\")\n",
    "df"
   ]
  },
  {
   "cell_type": "code",
   "execution_count": null,
   "id": "1ae28e66",
   "metadata": {},
   "outputs": [],
   "source": [
    "df['Chr'] = df['Chr'].str.extract(r\"NC_0+([XY1-9][0-9]?)\", expand=False).str.replace(\"23\", \"X\").str.replace(\"24\", \"Y\")\n",
    "df = df.query(\"Chr == Chr\")\n",
    "df"
   ]
  },
  {
   "cell_type": "code",
   "execution_count": null,
   "id": "67ee661d",
   "metadata": {},
   "outputs": [],
   "source": [
    "df.loc[:, \"ENSID\"] = df['Info'].str.extract(\"Ensembl:(ENST[0-9.]+)\")\n",
    "df.loc[:, \"Gene\"] = df['Info'].str.extract(\"gene=([A-Z0-9]+)\")\n",
    "df.loc[:, 'ID'] = df['Info'].str.extract(\"ID=exon-(NM_[0-9.]+)\")\n",
    "df.loc[:, 'Exon'] = df['Info'].str.extract(\"ID=exon-NM_[0-9.]+-([-0-9]+);\")\n",
    "df = df.loc[:, [\"Gene\", \"ID\", \"ENSID\", \"Exon\", \"Chr\", \"Start\", \"End\"]]\n",
    "df"
   ]
  },
  {
   "cell_type": "code",
   "execution_count": null,
   "id": "bbb7f017",
   "metadata": {},
   "outputs": [],
   "source": [
    "df.to_csv(\"/Users/martinszyska/Dropbox/Icke/Work/10x/ref/RefSeq_Exons.csv\", sep=\"\\t\", index=False)"
   ]
  },
  {
   "cell_type": "code",
   "execution_count": null,
   "id": "82c75b53",
   "metadata": {},
   "outputs": [],
   "source": []
  }
 ],
 "metadata": {
  "kernelspec": {
   "display_name": "Python 3.9.5 64-bit ('base': conda)",
   "language": "python",
   "name": "python395jvsc74a57bd0112cd4ed2543eb39a340638266bf76b06e1a8ae4e1b25c80ed15a984c465d194"
  },
  "language_info": {
   "codemirror_mode": {
    "name": "ipython",
    "version": 3
   },
   "file_extension": ".py",
   "mimetype": "text/x-python",
   "name": "python",
   "nbconvert_exporter": "python",
   "pygments_lexer": "ipython3",
   "version": "3.9.7"
  }
 },
 "nbformat": 4,
 "nbformat_minor": 5
}

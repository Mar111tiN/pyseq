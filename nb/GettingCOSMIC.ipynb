{
 "cells": [
  {
   "cell_type": "code",
   "execution_count": null,
   "id": "95cce4da",
   "metadata": {},
   "outputs": [],
   "source": [
    "def get_panel_df(sheet):\n",
    "    # load sheet\n",
    "    df = pd.read_excel(\"/Users/martinszyska/Dropbox/Icke/Work/Topics/CONAN/LungCancerPanels.xlsx\", sheet_name=sheet)\n",
    "    # extract Gene + ID\n",
    "    df.loc[:, ['Gene', 'ID']] = df['Gen Transkript'].str.strip(\" \").str.extract(r\"(?P<Gene>[A-Z0-9]+) +(?P<ID>NM_[0-9]+)\")\n",
    "    df.loc[:, \"Exon\"] = df['Genbereiche'].str.extract(r\"Exon ?(?P<Exon>[^A-Za-z]+)\", expand=False).str.replace(\"[ +]\", \"\", regex=True)\n",
    "    df.loc[:, \"Intron\"] = df['Genbereiche'].str.extract(r\"Intron ?(?P<Intron>[^A-Za-z]+)\", expand=False).str.replace(\"[ +]\", \"\", regex=True).fillna(\"\")\n",
    "    return df.loc[:, [\"Gene\", \"ID\", \"Exon\", \"Intron\"]]"
   ]
  },
  {
   "cell_type": "code",
   "execution_count": null,
   "id": "5acd46f1",
   "metadata": {},
   "outputs": [],
   "source": [
    "nngn = get_panel_df(\"nNGM\")\n",
    "nngn[:3]"
   ]
  },
  {
   "cell_type": "code",
   "execution_count": null,
   "id": "ba374501",
   "metadata": {},
   "outputs": [],
   "source": [
    "oncomine = get_panel_df(\"Oncomine Focus\")\n",
    "oncomine[:3]"
   ]
  },
  {
   "cell_type": "markdown",
   "id": "da2c3214",
   "metadata": {},
   "source": [
    "# GET COSMIC DATA into the mix"
   ]
  },
  {
   "cell_type": "markdown",
   "id": "aa8141f8",
   "metadata": {},
   "source": [
    "### first get the RefSeq data"
   ]
  },
  {
   "cell_type": "code",
   "execution_count": null,
   "id": "0bb8cf30",
   "metadata": {},
   "outputs": [],
   "source": [
    "ens = pd.read_csv(\"/Users/martinszyska/Dropbox/Icke/Work/10x/ref/RefSeq_Exons.csv\", sep=\"\\t\")\n",
    "# remove the versions\n",
    "for col in [\"ID\", \"ENSID\"]:\n",
    "    ens[col] = ens[col].str.replace(\"\\.[0-9]+$\", \"\", regex=True)\n",
    "ens.loc[:, 'Exon'] = \"Exon\" + ens[\"Exon\"].astype(str)\n",
    "ens"
   ]
  },
  {
   "cell_type": "code",
   "execution_count": null,
   "id": "6d0972d9",
   "metadata": {},
   "outputs": [],
   "source": [
    "cosmic = pd.read_csv(\"/Users/martinszyska/Dropbox/Icke/Work/static/annotation/annovar/humandb/hg38_cosmic94.txt\", sep=\"\\t\").iloc[:, [0,1,2,3,4,5,8]].rename({\"#Chr\":\"Chr\"}, axis=1)\n",
    "cosmic[:3]"
   ]
  },
  {
   "cell_type": "code",
   "execution_count": null,
   "id": "043c302c",
   "metadata": {},
   "outputs": [],
   "source": [
    "def expand_range(string):\n",
    "    splt = string.split('-')\n",
    "    if len(splt) == 1:\n",
    "        return splt\n",
    "    \n",
    "    return list(range(int(splt[0]), int(splt[1]) + 1))\n",
    "\n",
    "\n",
    "def get_rows(row):\n",
    "    dfs = []\n",
    "    for t in [\"Exon\", 'Intron']:\n",
    "        ll = [expand_range(n) for n in row[t].split(\",\")]\n",
    "        l = [f\"{t}{x}\" for i in ll for x in i]\n",
    "        if l != [\"Intron\"]:\n",
    "            df = pd.DataFrame({'Exon':l})\n",
    "            dfs.append(df)\n",
    "    df = pd.concat(dfs)\n",
    "    # add data\n",
    "    for col in [\"Gene\", \"ID\"]:\n",
    "        df[col] = row[col]    \n",
    "    return df.loc[:, [\"Gene\", \"ID\", \"Exon\"]]\n",
    "\n",
    "\n",
    "def expand_df(df, ens_df):\n",
    "    dfs = []\n",
    "    for i, row in df.iterrows():\n",
    "        dfs.append(get_rows(row))\n",
    "    df = pd.concat(dfs)\n",
    "    df.loc[:, \"Exon\"] = df[\"Exon\"].str.replace(\"*\", \"\", regex=False)\n",
    "    return df.merge(ens_df, how=\"left\")"
   ]
  },
  {
   "cell_type": "code",
   "execution_count": null,
   "id": "8b4e5cea",
   "metadata": {},
   "outputs": [],
   "source": [
    "nngn_df = expand_df(nngn, ens)\n",
    "nngn_df"
   ]
  },
  {
   "cell_type": "code",
   "execution_count": null,
   "id": "43354f63",
   "metadata": {},
   "outputs": [],
   "source": [
    "onco_df = expand_df(oncomine, ens)\n",
    "onco_df.query(\"Chr != Chr\")\n",
    "onco_df"
   ]
  },
  {
   "cell_type": "markdown",
   "id": "c466f80c",
   "metadata": {},
   "source": [
    "### merge with the relevant cosmic mutations"
   ]
  },
  {
   "cell_type": "code",
   "execution_count": null,
   "id": "ee35670c",
   "metadata": {},
   "outputs": [],
   "source": [
    "def cosmic_exon(row):\n",
    "    chrom = row['Chr']\n",
    "    start = row['Start']\n",
    "    end = row['End']\n",
    "    df = cosmic.query(\"Chr == @chrom and Start >= @start and End <= @end\")\n",
    "    df['ID'] = row[\"ID\"]\n",
    "    df[\"Gene\"] = row['Gene']\n",
    "    df[\"Exon\"] = row['Exon']\n",
    "    return df"
   ]
  },
  {
   "cell_type": "markdown",
   "id": "a0f4a6e8",
   "metadata": {},
   "source": [
    "### merge all exons for cosmic file"
   ]
  },
  {
   "cell_type": "code",
   "execution_count": null,
   "id": "5ac345ff",
   "metadata": {},
   "outputs": [],
   "source": [
    "all_df = pd.concat([onco_df, nngn_df]).drop_duplicates([\"ID\", \"Exon\"]).sort_values(['Gene', 'Exon', 'ID'])\n",
    "all_df"
   ]
  },
  {
   "cell_type": "code",
   "execution_count": null,
   "id": "27217a42",
   "metadata": {},
   "outputs": [],
   "source": [
    "cosmic_exon(onco_df.iloc[0,:])"
   ]
  },
  {
   "cell_type": "code",
   "execution_count": null,
   "id": "865cead8",
   "metadata": {},
   "outputs": [],
   "source": [
    "cos_dfs = []\n",
    "for _, row in all_df.iterrows():\n",
    "    cos_dfs.append(cosmic_exon(row))\n",
    "cos_df = pd.concat(cos_dfs).sort_values(['Gene', 'Start', 'End'])\n",
    "cos_df"
   ]
  },
  {
   "cell_type": "markdown",
   "id": "70d328e8",
   "metadata": {},
   "source": [
    "### calculate the clinscore"
   ]
  },
  {
   "cell_type": "code",
   "execution_count": null,
   "id": "a2aea6b2",
   "metadata": {},
   "outputs": [],
   "source": [
    "from yaml import CLoader as Loader, load\n",
    "\n",
    "def load_scores(clinscore_file):\n",
    "    '''\n",
    "    load the relevant clinscore files into location and type dictionary\n",
    "    '''\n",
    "    \n",
    "    with open(clinscore_file, \"r\") as stream:\n",
    "        cosmic_score = load(stream, Loader=Loader)\n",
    "    return cosmic_score['type'], cosmic_score['location']\n",
    "\n",
    "\n",
    "\n",
    "\n",
    "def get_cosmic_score(df, clinscore_file):\n",
    "    '''\n",
    "    computes the clinscore from a clinscore YAML file\n",
    "    '''\n",
    "    \n",
    "    type_score, loc_score = load_scores(clinscore_file)\n",
    "    print(type_score)\n",
    "    \n",
    "    def cosmic_score(row):\n",
    "        \"\"\"\n",
    "        row-wise computation of cosmic90 scores\n",
    "        \"\"\"\n",
    "        cos_score = 1 + type_score.get(row[\"types\"], 0) + loc_score.get(row[\"location\"], 0)\n",
    "    \n",
    "        return cos_score* int(row[\"count\"])\n",
    "    cosmic90_pattern = (r\"(?P<count>[0-9]+)x\\((?P<types>[^0-9@)]+)(?:@(?P<location>[^0-9@)]+))?\\)\")\n",
    "    df[\"cosmic_score\"]= df['cosmic94_type'].str.replace(\"_(sclerosing_haemangioma)\", \"\", regex=False).str.extractall(cosmic90_pattern).apply(cosmic_score, axis=1).reset_index().drop(columns=\"match\").groupby(\"level_0\").sum().fillna(0).astype(int)\n",
    "    return df"
   ]
  },
  {
   "cell_type": "code",
   "execution_count": null,
   "id": "9b0c8dbb",
   "metadata": {},
   "outputs": [],
   "source": [
    "clinscore_file = \"/Users/martinszyska/Dropbox/Icke/Work/Topics/CONAN/clinscoreLung2.yaml\"\n",
    "\n",
    "cosmic_all = get_cosmic_score(cos_df, clinscore_file)\n",
    "cosmic_all.loc[:, \"cosmic_score\"] = cosmic_all['cosmic_score'].fillna(0).astype(int)\n",
    "cosmic_all"
   ]
  },
  {
   "cell_type": "code",
   "execution_count": null,
   "id": "66c68d0f",
   "metadata": {},
   "outputs": [],
   "source": [
    "cosmic_all.query('cosmic_score > 10000')"
   ]
  },
  {
   "cell_type": "code",
   "execution_count": null,
   "id": "53560af9",
   "metadata": {},
   "outputs": [],
   "source": [
    "cosmic_all.to_csv(\"/Users/martinszyska/Dropbox/Icke/Work/Topics/CONAN/cosmic_AllPanels2.csv\", sep=\"\\t\", index=False)"
   ]
  },
  {
   "cell_type": "code",
   "execution_count": null,
   "id": "90306a46",
   "metadata": {},
   "outputs": [],
   "source": [
    "cosmic_all.query('cosmic_score > 10000').set_index([\"Gene\", \"ID\", \"Exon\"]).to_excel(\"/Users/martinszyska/Dropbox/Icke/Work/Topics/CONAN/cosmic_AllPanels_select.xlsx\")"
   ]
  },
  {
   "cell_type": "markdown",
   "id": "8b6da255",
   "metadata": {},
   "source": [
    "### calculate the sum per exon/ID"
   ]
  },
  {
   "cell_type": "code",
   "execution_count": null,
   "id": "6eb7d6e1",
   "metadata": {},
   "outputs": [],
   "source": [
    "cosmic_exons = cosmic_all.groupby([\"Gene\", \"Exon\", \"ID\"])['cosmic_score'].sum().reset_index().sort_values(['Gene', \"ID\", \"Exon\"])\n",
    "cosmic_exons"
   ]
  },
  {
   "cell_type": "code",
   "execution_count": null,
   "id": "3e20d47f",
   "metadata": {},
   "outputs": [],
   "source": [
    "cosmic_exons[:3]"
   ]
  },
  {
   "cell_type": "markdown",
   "id": "8a0c8e5b",
   "metadata": {},
   "source": [
    "### merge with Oncomine"
   ]
  },
  {
   "cell_type": "code",
   "execution_count": null,
   "id": "d8ccb960",
   "metadata": {},
   "outputs": [],
   "source": [
    "onco_df[:3]"
   ]
  },
  {
   "cell_type": "code",
   "execution_count": null,
   "id": "50e3086f",
   "metadata": {},
   "outputs": [],
   "source": [
    "cosmic_merge = cosmic_exons.merge(onco_df.loc[:,[\"ID\", \"Exon\"]], how=\"left\", indicator=True).rename({\"_merge\":\"Oncomine\"}, axis=1)\n",
    "cosmic_merge.loc[:, [\"Oncomine\"]] = (cosmic_merge[\"Oncomine\"] == \"both\").astype(int)\n",
    "cosmic_merge"
   ]
  },
  {
   "cell_type": "markdown",
   "id": "25b67d4a",
   "metadata": {},
   "source": [
    "### merge with nNGM"
   ]
  },
  {
   "cell_type": "code",
   "execution_count": null,
   "id": "10e964e0",
   "metadata": {},
   "outputs": [],
   "source": [
    "nngn_df[:3]"
   ]
  },
  {
   "cell_type": "code",
   "execution_count": null,
   "id": "a74c9c2a",
   "metadata": {},
   "outputs": [],
   "source": [
    "cosmic_merge = cosmic_merge.merge(nngn_df.loc[:,[\"ID\", \"Exon\"]], how=\"left\", indicator=True).rename({\"_merge\":\"nNGM\"}, axis=1)#\n",
    "cosmic_merge.loc[:, [\"nNGM\"]] = (cosmic_merge[\"nNGM\"] == \"both\").astype(int)\n",
    "cosmic_merge.loc[:, [\"both\"]] = (cosmic_merge[\"nNGM\"] +  cosmic_merge[\"Oncomine\"] == 2).astype(int)\n",
    "cosmic_merge"
   ]
  },
  {
   "cell_type": "code",
   "execution_count": null,
   "id": "a5355440",
   "metadata": {},
   "outputs": [],
   "source": [
    "cosmic_merge.sort_values([\"Gene\", \"ID\", \"Exon\"]).to_excel(\"/Users/martinszyska/Dropbox/Icke/Work/Topics/CONAN/cosmic_AllPanels_exons.xlsx\", index=False)"
   ]
  },
  {
   "cell_type": "code",
   "execution_count": null,
   "id": "01c73865",
   "metadata": {},
   "outputs": [],
   "source": []
  }
 ],
 "metadata": {
  "kernelspec": {
   "display_name": "Python 3.9.5 64-bit ('base': conda)",
   "language": "python",
   "name": "python395jvsc74a57bd0112cd4ed2543eb39a340638266bf76b06e1a8ae4e1b25c80ed15a984c465d194"
  },
  "language_info": {
   "codemirror_mode": {
    "name": "ipython",
    "version": 3
   },
   "file_extension": ".py",
   "mimetype": "text/x-python",
   "name": "python",
   "nbconvert_exporter": "python",
   "pygments_lexer": "ipython3",
   "version": "3.9.7"
  }
 },
 "nbformat": 4,
 "nbformat_minor": 5
}

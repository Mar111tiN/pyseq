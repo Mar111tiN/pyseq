{
 "cells": [
  {
   "cell_type": "code",
   "execution_count": null,
   "id": "95cce4da",
   "metadata": {},
   "outputs": [],
   "source": [
    "def get_panel_df(sheet):\n",
    "    # load sheet\n",
    "    df = pd.read_excel(\"/Users/martinszyska/Dropbox/Icke/Work/Topics/CONAN/LungCancerPanels.xlsx\", sheet_name=sheet)\n",
    "    # extract Gene + ID\n",
    "    df.loc[:, ['Gene', 'ID']] = df['Gen Transkript'].str.strip(\" \").str.extract(r\"(?P<Gene>[A-Z]+[0-9]*) +(?P<ID>NM_[0-9]+)\")\n",
    "    df.loc[:, \"Exon\"] = df['Genbereiche'].str.extract(r\"Exon ?(?P<Exon>[^A-Za-z]+)\", expand=False).str.replace(\"[ +]\", \"\", regex=True)\n",
    "    df.loc[:, \"Intron\"] = df['Genbereiche'].str.extract(r\"Intron ?(?P<Intron>[^A-Za-z]+)\", expand=False).str.replace(\"[ +]\", \"\", regex=True).fillna(\"\")\n",
    "    return df.loc[:, [\"Gene\", \"ID\", \"Exon\", \"Intron\"]]"
   ]
  },
  {
   "cell_type": "code",
   "execution_count": null,
   "id": "5acd46f1",
   "metadata": {},
   "outputs": [],
   "source": [
    "nngn = get_panel_df(\"nNGM\")\n",
    "nngn"
   ]
  },
  {
   "cell_type": "code",
   "execution_count": null,
   "id": "bbd60003",
   "metadata": {},
   "outputs": [],
   "source": [
    "def expand_range(string):\n",
    "    splt = string.split('-')\n",
    "    if len(splt) == 1:\n",
    "        return splt\n",
    "    \n",
    "    return list(range(int(splt[0]), int(splt[1]) + 1))\n",
    "\n",
    "\n",
    "def get_rows(row):\n",
    "    dfs = []\n",
    "    for t in [\"Exon\", 'Intron']:\n",
    "        ll = [expand_range(n) for n in row[t].split(\",\")]\n",
    "        l = [f\"{t}{x}\" for i in ll for x in i]\n",
    "        if l != [\"Intron\"]:\n",
    "            df = pd.DataFrame({'Exon':l})\n",
    "            dfs.append(df)\n",
    "    df = pd.concat(dfs)\n",
    "    # add data\n",
    "    for col in [\"Gene\", \"ID\"]:\n",
    "        df[col] = row[col]    \n",
    "    return df.loc[:, [\"Gene\", \"ID\", \"Exon\"]]\n",
    "\n",
    "\n",
    "def expand_df(df):\n",
    "    dfs = []\n",
    "    for i, row in df.iterrows():\n",
    "        dfs.append(get_rows(row))\n",
    "    return pd.concat(dfs)"
   ]
  },
  {
   "cell_type": "code",
   "execution_count": null,
   "id": "2fcc4043",
   "metadata": {},
   "outputs": [],
   "source": [
    "nngn_df = expand_df(nngn)\n",
    "nngn_df"
   ]
  },
  {
   "cell_type": "code",
   "execution_count": null,
   "id": "ba374501",
   "metadata": {},
   "outputs": [],
   "source": [
    "oncomine = get_panel_df(\"Oncomine Focus\")\n",
    "oncomine[:3]"
   ]
  },
  {
   "cell_type": "code",
   "execution_count": null,
   "id": "b569df09",
   "metadata": {},
   "outputs": [],
   "source": [
    "onco_df = expand_df(oncomine)\n",
    "onco_df"
   ]
  },
  {
   "cell_type": "code",
   "execution_count": null,
   "id": "b0763c02",
   "metadata": {},
   "outputs": [],
   "source": [
    "merge_df = nngn_df.merge(onco_df, on=[\"Gene\", \"Exon\"], how=\"outer\", indicator=True)\n",
    "merge_df"
   ]
  },
  {
   "cell_type": "code",
   "execution_count": null,
   "id": "dbf4f510",
   "metadata": {},
   "outputs": [],
   "source": [
    "nngn_only = merge_df.query('_merge == \"left_only\"')\n",
    "nngn_only\n"
   ]
  },
  {
   "cell_type": "code",
   "execution_count": null,
   "id": "f86ebffc",
   "metadata": {},
   "outputs": [],
   "source": [
    "oncomine_only = merge_df.query('_merge == \"right_only\"')\n",
    "oncomine_only"
   ]
  },
  {
   "cell_type": "code",
   "execution_count": null,
   "id": "85922bd1",
   "metadata": {},
   "outputs": [],
   "source": [
    "with pd.ExcelWriter(\"/Users/martinszyska/Dropbox/Icke/Work/Topics/CONAN/LungCancerPanels.xlsx\", mode=\"a\") as writer:\n",
    "    nngn_only.loc[:, [\"Gene\", \"ID_x\", \"Exon\"]].to_excel(writer, sheet_name=\"nNGM_only\", index=False)\n",
    "    oncomine_only.loc[:, [\"Gene\", \"ID_y\", \"Exon\"]].to_excel(writer, sheet_name=\"Oncomine_only\", index=False)"
   ]
  },
  {
   "cell_type": "code",
   "execution_count": null,
   "id": "28e2f529",
   "metadata": {},
   "outputs": [],
   "source": []
  }
 ],
 "metadata": {
  "kernelspec": {
   "display_name": "Python 3 (ipykernel)",
   "language": "python",
   "name": "python3"
  },
  "language_info": {
   "codemirror_mode": {
    "name": "ipython",
    "version": 3
   },
   "file_extension": ".py",
   "mimetype": "text/x-python",
   "name": "python",
   "nbconvert_exporter": "python",
   "pygments_lexer": "ipython3",
   "version": "3.10.2"
  },
  "latex_envs": {
   "LaTeX_envs_menu_present": true,
   "autoclose": false,
   "autocomplete": true,
   "bibliofile": "biblio.bib",
   "cite_by": "apalike",
   "current_citInitial": 1,
   "eqLabelWithNumbers": true,
   "eqNumInitial": 1,
   "hotkeys": {
    "equation": "Ctrl-E",
    "itemize": "Ctrl-I"
   },
   "labels_anchors": false,
   "latex_user_defs": false,
   "report_style_numbering": false,
   "user_envs_cfg": false
  },
  "varInspector": {
   "cols": {
    "lenName": 16,
    "lenType": 16,
    "lenVar": 40
   },
   "kernels_config": {
    "python": {
     "delete_cmd_postfix": "",
     "delete_cmd_prefix": "del ",
     "library": "var_list.py",
     "varRefreshCmd": "print(var_dic_list())"
    },
    "r": {
     "delete_cmd_postfix": ") ",
     "delete_cmd_prefix": "rm(",
     "library": "var_list.r",
     "varRefreshCmd": "cat(var_dic_list()) "
    }
   },
   "types_to_exclude": [
    "module",
    "function",
    "builtin_function_or_method",
    "instance",
    "_Feature"
   ],
   "window_display": false
  }
 },
 "nbformat": 4,
 "nbformat_minor": 5
}

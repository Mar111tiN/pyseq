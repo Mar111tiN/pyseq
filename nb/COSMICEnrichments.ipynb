{
 "cells": [
  {
   "cell_type": "markdown",
   "id": "43b593fd",
   "metadata": {},
   "source": [
    "## Creating a custom panel for use in small sequencers for LungCancerMutations\n",
    "\n",
    "### Strategy: Look for mutational hotspots for lung cancer in the COSMIC Database"
   ]
  },
  {
   "cell_type": "code",
   "execution_count": 1,
   "id": "9929adcf",
   "metadata": {
    "ExecuteTime": {
     "end_time": "2022-02-03T18:03:33.678723Z",
     "start_time": "2022-02-03T18:03:33.666960Z"
    }
   },
   "outputs": [],
   "source": [
    "# some sensible settings for better output\n",
    "import os\n",
    "import pandas as pd\n",
    "from IPython.display import display\n",
    "pd.set_option('display.max_columns', None)\n",
    "from IPython.core.interactiveshell import InteractiveShell\n",
    "InteractiveShell.ast_node_interactivity = \"all\"\n",
    "pd.set_option('max_colwidth', 200)\n",
    "\n",
    "\n",
    "# get the code\n",
    "import sys\n",
    "sys.path.append('../code')\n",
    "from script_utils import show_output\n",
    "\n",
    "# paths\n",
    "static_path = os.path.join(os.environ['STATIC'], \"annotation/clinical\")\n",
    "local_path = os.path.join(os.environ['WORK'], \"LO/Sequencing/LungCustomPanel/output\")"
   ]
  },
  {
   "cell_type": "markdown",
   "id": "cf64858b",
   "metadata": {},
   "source": [
    "### filter the cosmic database for exonic mutations\n",
    "+ annotate the whole of cosmic with annovar for gene model and SNPs\n",
    "* `$ conda activate annovar-env`\n",
    "* `perl ../code/anno2019/table_annovar.pl --buildver hg38 --maxgenethread 10 --thread 10 --protocol refGene,cytoband,gnomad30 --operation g,r,f -nastring \".\" --otherinfo --remove --outfile ../output/cosmic ${STATIC}/annotation/annovar/humandb/hg38_cosmic95.txt $STATIC/annotation/annovar/humandb`"
   ]
  },
  {
   "cell_type": "markdown",
   "id": "2298a26f",
   "metadata": {},
   "source": [
    "+ load the annovar output and edit"
   ]
  },
  {
   "cell_type": "code",
   "execution_count": null,
   "id": "f9b1e5c9",
   "metadata": {
    "ExecuteTime": {
     "end_time": "2022-02-03T12:14:12.302732Z",
     "start_time": "2022-02-03T12:14:12.253988Z"
    }
   },
   "outputs": [],
   "source": [
    "from pyseq_utils import load_anno\n",
    "cosmic_all_path = os.path.join(local_path, \"../output/cosmic.hg38_multianno.txt\")\n",
    "cosmic_all = load_anno(cosmic_all_path)\n",
    "cosmic_all"
   ]
  },
  {
   "cell_type": "markdown",
   "id": "f11cff10",
   "metadata": {},
   "source": [
    "+ save and load"
   ]
  },
  {
   "cell_type": "code",
   "execution_count": null,
   "id": "6f7bcf79",
   "metadata": {
    "ExecuteTime": {
     "end_time": "2022-02-03T12:14:23.758148Z",
     "start_time": "2022-02-03T12:14:23.731532Z"
    }
   },
   "outputs": [],
   "source": [
    "cosmic_all.to_csv(os.path.join(static_path, \"cosmic_all.csv\"), sep=\"\\t\", index=False, compression=\"gzip\")\n",
    "cosmic_all = pd.read_csv(os.path.join(static_path, \"cosmic_all.csv\"), sep=\"\\t\", compression=\"gzip\")\n",
    "cosmic_all[:3]\n",
    "len(cosmic_all.index)"
   ]
  },
  {
   "cell_type": "markdown",
   "id": "d51eb928",
   "metadata": {
    "ExecuteTime": {
     "end_time": "2022-02-03T07:32:03.475962Z",
     "start_time": "2022-02-03T07:32:03.463072Z"
    }
   },
   "source": [
    "### Filter on non-exonic and SNP-rich mutations"
   ]
  },
  {
   "cell_type": "code",
   "execution_count": null,
   "id": "fa107fd3",
   "metadata": {
    "ExecuteTime": {
     "end_time": "2022-02-03T14:46:14.221825Z",
     "start_time": "2022-02-03T14:46:14.190945Z"
    }
   },
   "outputs": [],
   "source": [
    "from pyseq_utils import filter_exonic\n",
    "\n",
    "exonic_filter = dict(\n",
    "    exonic_list = ['exonic', 'UTR3', 'UTR5', 'UTR5;UTR3', 'exonic;splicing'],\n",
    "    mut_list = ['nonsynonymous SNV', 'stopgain', 'startloss', 'stoploss', 'frameshift deletion', 'nonframeshift deletion'],\n",
    "    gnomad_max=1e-2\n",
    ")\n",
    "\n",
    "cosmic_exon = filter_exonic(cosmic_all, filter_settings=exonic_filter)\n",
    "cosmic_exon"
   ]
  },
  {
   "cell_type": "markdown",
   "id": "1aa53228",
   "metadata": {},
   "source": [
    "## save and re-import the COSMIC exon databased load"
   ]
  },
  {
   "cell_type": "code",
   "execution_count": null,
   "id": "aea1daee",
   "metadata": {
    "ExecuteTime": {
     "end_time": "2022-02-03T15:11:36.636289Z",
     "start_time": "2022-02-03T15:11:29.311952Z"
    }
   },
   "outputs": [],
   "source": [
    "cosmic_exon_path = os.path.join(static_path, \"cosmic_exon.csv\")\n",
    "# cosmic_exon.to_csv(cosmic_exon_path, sep=\"\\t\", index=False, compression=\"gzip\")\n",
    "cosmic_exon = pd.read_csv(cosmic_exon_path, sep=\"\\t\", compression=\"gzip\")\n",
    "cosmic_exon[:3]\n",
    "len(cosmic_exon.index)"
   ]
  },
  {
   "cell_type": "markdown",
   "id": "70d328e8",
   "metadata": {},
   "source": [
    "## calculate the clinscore for all exonic data based on clinscore weights\n",
    "+ weights are applied via yaml file"
   ]
  },
  {
   "cell_type": "code",
   "execution_count": null,
   "id": "43ca270e",
   "metadata": {
    "ExecuteTime": {
     "end_time": "2022-02-03T15:11:44.991143Z",
     "start_time": "2022-02-03T15:11:36.797416Z"
    }
   },
   "outputs": [],
   "source": [
    "from clinscore import get_cosmic_score\n",
    "clinscore_file = \"../testdata/clinscoreLung.yaml\"\n",
    "cosmic_scored = get_cosmic_score(cosmic_exon, clinscore_file=clinscore_file, threads=10, verbose=1)\n",
    "cosmic_scored"
   ]
  },
  {
   "cell_type": "markdown",
   "id": "953f2f7d",
   "metadata": {},
   "source": [
    "### plot the distribution of scores"
   ]
  },
  {
   "cell_type": "code",
   "execution_count": null,
   "id": "f1a16f5e",
   "metadata": {
    "ExecuteTime": {
     "end_time": "2022-02-03T15:11:46.731470Z",
     "start_time": "2022-02-03T15:11:45.216096Z"
    }
   },
   "outputs": [],
   "source": [
    "%matplotlib inline\n",
    "import matplotlib.pyplot as plt\n",
    "import seaborn as sn\n",
    "sn.set()\n",
    "\n",
    "plt.style.use(\"seaborn-white\")\n",
    "_ = plt.hist(cosmic_scored.query('cosmic_score > 20000')['cosmic_score'], alpha=.5, bins=700)\n",
    "plt.yscale(\"log\")\n",
    "plt.xscale(\"log\")"
   ]
  },
  {
   "cell_type": "code",
   "execution_count": null,
   "id": "2fc577c1",
   "metadata": {
    "ExecuteTime": {
     "end_time": "2022-02-03T17:20:37.970349Z",
     "start_time": "2022-02-03T17:20:32.385584Z"
    }
   },
   "outputs": [],
   "source": [
    "# cosmic_scored.to_csv(os.path.join(local_path, \"cosmic_lung.csv\"), sep=\"\\t\", index=False)\n",
    "cosmic_scored = pd.read_csv(os.path.join(local_path, \"cosmic_lung.csv\"), sep=\"\\t\")\n",
    "cosmic_scored.query('cosmic_score > 100')[:10]"
   ]
  },
  {
   "cell_type": "markdown",
   "id": "05fbf427",
   "metadata": {},
   "source": [
    "### perform rolling computation to get hotspots\n",
    "+ cycle through the chromosomes\n",
    "+ remove background mutations\n",
    "+ roll for density\n",
    "+ merge into chromosome df"
   ]
  },
  {
   "cell_type": "code",
   "execution_count": null,
   "id": "f0791fd6",
   "metadata": {
    "ExecuteTime": {
     "end_time": "2022-02-03T17:20:42.600034Z",
     "start_time": "2022-02-03T17:20:42.456322Z"
    }
   },
   "outputs": [],
   "source": [
    "from cosmic_panel import compute_cosmic_density\n",
    "\n",
    "custom_filter = dict(\n",
    "    cosmic_rolling_min=500,\n",
    "    rolling_window_size=5\n",
    ")\n",
    "\n",
    "cosmic_roll = compute_cosmic_density(cosmic_scored, filter_setting=custom_filter, verbose=1)\n",
    "cosmic_roll[:3]"
   ]
  },
  {
   "cell_type": "markdown",
   "id": "23e89bbe",
   "metadata": {},
   "source": [
    "### plot the density distribution"
   ]
  },
  {
   "cell_type": "code",
   "execution_count": null,
   "id": "e1e8b580",
   "metadata": {
    "ExecuteTime": {
     "end_time": "2022-02-03T17:20:47.319678Z",
     "start_time": "2022-02-03T17:20:45.835063Z"
    }
   },
   "outputs": [],
   "source": [
    "%matplotlib inline\n",
    "import matplotlib.pyplot as plt\n",
    "import seaborn as sn\n",
    "sn.set()\n",
    "\n",
    "plt.style.use(\"seaborn-white\")\n",
    "_ = plt.hist(cosmic_roll.query('cosmic_score > 10000').query('cosmic_density > 100')['cosmic_density'], alpha=.5, bins=700)\n",
    "plt.yscale(\"log\")\n",
    "plt.xscale(\"log\")"
   ]
  },
  {
   "cell_type": "markdown",
   "id": "c57c0122",
   "metadata": {},
   "source": [
    "### filter for very important mutations and high density regions\n",
    "+ looks like the density cutoff should be around "
   ]
  },
  {
   "cell_type": "code",
   "execution_count": null,
   "id": "33998558",
   "metadata": {
    "ExecuteTime": {
     "end_time": "2022-02-03T17:21:14.212252Z",
     "start_time": "2022-02-03T17:21:13.888188Z"
    }
   },
   "outputs": [],
   "source": [
    "data = cosmic_roll.query('cosmic_score > 5000')\n",
    "\n",
    "plt.scatter(data['cosmic_score'], data['cosmic_density'], s=2)\n",
    "plt.yscale(\"log\")\n",
    "plt.xscale(\"log\")\n",
    "plt.ylabel(\"density\")\n",
    "plt.xlabel(\"score\")"
   ]
  },
  {
   "cell_type": "code",
   "execution_count": null,
   "id": "73fefc96",
   "metadata": {
    "ExecuteTime": {
     "end_time": "2022-02-03T17:23:19.891178Z",
     "start_time": "2022-02-03T17:23:19.866174Z"
    }
   },
   "outputs": [],
   "source": [
    "from cosmic_panel import filter_cosmic\n",
    "\n",
    "custom_filter = dict(\n",
    "    cosmic_min = 20000,\n",
    "    cosmic_density_min = 1000\n",
    ")\n",
    "\n",
    "cosmic_f2 = filter_cosmic(cosmic_roll, filter_settings=custom_filter, verbose=1)\n",
    "cosmic_f2[:10]"
   ]
  },
  {
   "cell_type": "code",
   "execution_count": null,
   "id": "7d2936af",
   "metadata": {
    "ExecuteTime": {
     "end_time": "2022-02-03T17:56:43.325609Z",
     "start_time": "2022-02-03T17:56:43.298136Z"
    }
   },
   "outputs": [],
   "source": [
    "cr = cosmic_f2.query('Chr == 7').loc[:,[\"Chr\", \"Start\", \"End\"]]\n",
    "for col in [\"Start\", \"End\"]:\n",
    "    cr[col] = cr[col]-55100000\n",
    "# cr.iloc[1048,:] = [7,77355, 79555]\n",
    "newline = pd.DataFrame([{\"Chr\": 7, \"Start\": 67355, \"End\":69555}, {\"Chr\": 7, \"Start\": 77355, \"End\":79555}, {\"Chr\": 7, \"Start\": 177355, \"End\":179555}], index=[1000,1050,2000])\n",
    "cr = cr.append(newline, ignore_index=False)\n",
    "cr = cr.sort_index()\n",
    "cr"
   ]
  },
  {
   "cell_type": "code",
   "execution_count": null,
   "id": "edab5a30",
   "metadata": {
    "ExecuteTime": {
     "end_time": "2022-02-03T17:56:48.246432Z",
     "start_time": "2022-02-03T17:56:48.218597Z"
    }
   },
   "outputs": [],
   "source": [
    "pad = 100\n",
    "cr['Start'] = cr['Start'] - pad\n",
    "cr['End'] = cr['End'] + pad\n",
    "# get the overlaps\n",
    "cr['ov1'] = (cr['End'] > cr.shift(-1)['Start']).astype(int)\n",
    "cr['ov2'] = (cr['Start'] < cr.shift(1)['End']).astype(int)\n",
    "cr['gap'] = cr['ov1'] + cr['ov2']\n",
    "cr"
   ]
  },
  {
   "cell_type": "code",
   "execution_count": null,
   "id": "52faa7bb",
   "metadata": {
    "ExecuteTime": {
     "end_time": "2022-02-03T17:56:52.794093Z",
     "start_time": "2022-02-03T17:56:52.772407Z"
    }
   },
   "outputs": [],
   "source": [
    "# assign overlap groups\n",
    "cr['ovgroup'] = ((cr['ov1'] * (cr['ov2'] == 0).astype(int)).cumsum()) * (cr['ov1'] | (cr['ov2']))\n",
    "cr"
   ]
  },
  {
   "cell_type": "code",
   "execution_count": null,
   "id": "83a9e06e",
   "metadata": {},
   "outputs": [],
   "source": []
  },
  {
   "cell_type": "code",
   "execution_count": null,
   "id": "b70072b3",
   "metadata": {},
   "outputs": [],
   "source": []
  },
  {
   "cell_type": "code",
   "execution_count": null,
   "id": "252c2849",
   "metadata": {},
   "outputs": [],
   "source": []
  },
  {
   "cell_type": "code",
   "execution_count": null,
   "id": "a600827a",
   "metadata": {},
   "outputs": [],
   "source": []
  },
  {
   "cell_type": "code",
   "execution_count": null,
   "id": "40ff2b73",
   "metadata": {},
   "outputs": [],
   "source": []
  },
  {
   "cell_type": "code",
   "execution_count": null,
   "id": "46e69a53",
   "metadata": {},
   "outputs": [],
   "source": []
  },
  {
   "cell_type": "code",
   "execution_count": null,
   "id": "8da5cade",
   "metadata": {},
   "outputs": [],
   "source": []
  },
  {
   "cell_type": "code",
   "execution_count": null,
   "id": "dcd07435",
   "metadata": {},
   "outputs": [],
   "source": []
  },
  {
   "cell_type": "code",
   "execution_count": null,
   "id": "d2155d76",
   "metadata": {},
   "outputs": [],
   "source": []
  },
  {
   "cell_type": "markdown",
   "id": "41d9b3f0",
   "metadata": {},
   "source": [
    "### now calculate approximate panel size based on approximate padding size"
   ]
  },
  {
   "cell_type": "code",
   "execution_count": null,
   "id": "92328cec",
   "metadata": {
    "ExecuteTime": {
     "end_time": "2022-02-03T15:31:26.257791Z",
     "start_time": "2022-02-03T15:31:26.206472Z"
    }
   },
   "outputs": [],
   "source": [
    "from cosmic_panel import full_collapse\n",
    "\n",
    "cosmic_muts, cosmic_collapsed = full_collapse(cosmic_f2)\n",
    "cosmic_collapsed"
   ]
  },
  {
   "cell_type": "code",
   "execution_count": null,
   "id": "1d3251a7",
   "metadata": {
    "ExecuteTime": {
     "end_time": "2022-02-03T15:31:52.658435Z",
     "start_time": "2022-02-03T15:31:51.419983Z"
    }
   },
   "outputs": [],
   "source": [
    "cosmic_muts.query('Gene == \"EGFR\"').drop(['AAChange'])"
   ]
  },
  {
   "cell_type": "markdown",
   "id": "0d6558a2",
   "metadata": {},
   "source": [
    "## putting it all together"
   ]
  },
  {
   "cell_type": "code",
   "execution_count": 26,
   "id": "7b41fdea",
   "metadata": {
    "ExecuteTime": {
     "end_time": "2022-02-03T18:21:09.524267Z",
     "start_time": "2022-02-03T18:21:09.507845Z"
    }
   },
   "outputs": [],
   "source": [
    "from clinscore import get_cosmic_score\n",
    "from cosmic_panel import compute_cosmic_density, filter_cosmic, full_collapse\n",
    "\n",
    "\n",
    "def cosmic_master(df, cosmic_weights_file=\"\", filter_settings={}, verbose=1):\n",
    "    '''\n",
    "    takes an annovar annotated mutation list and returns the collapsed mutation list based on filter list\n",
    "    '''\n",
    "    \n",
    "    filter_info = \"\".join([f\"\\n\\t[{col}:\\t{filter_setting[col]}]\" for col in [\"cosmic_rolling_min\", \"rolling_window_size\", \"cosmic_min\", \"cosmic_density_min\", \"padding\"]])\n",
    "    show_output(f\"Creating custom panel based on limits set in filter settings.{filter_info}\")\n",
    "    if cosmic_weights_file:\n",
    "        df_scored = get_cosmic_score(df, cosmic_weights_file=cosmic_weights_file, threads=10, verbose=1)\n",
    "    else:\n",
    "        if 'cosmic_score' in df.columns:\n",
    "            show_output(f\"Using precomputed cosmic scores! For recomputation, provide a cosmic weights file\", time=False)\n",
    "            df_scored = df\n",
    "        else:\n",
    "            show_output(\"No clinscore in df and no weights file to compute clinscores. Sorry - stopping here!\", color=\"warning\")\n",
    "            return\n",
    "    \n",
    "    # perform rolling window computation\n",
    "    if verbose:\n",
    "        show_output(\"Perform rolling window computation\", time=False)\n",
    "    df = compute_cosmic_density(df_scored, filter_setting=filter_settings, verbose=verbose)\n",
    "\n",
    "    # filter based on cosmic scores\n",
    "    if verbose:\n",
    "        show_output(\"Filtering out background mutations\", time=False)\n",
    "    df = filter_cosmic(df, filter_settings=filter_settings, verbose=verbose)\n",
    "\n",
    "    # collapse the df\n",
    "    if verbose:\n",
    "        show_output(\"Collapsing the mutations to adjacency groups\", time=False)\n",
    "    df, group_df = full_collapse(df, padding=filter_settings['padding'], verbose=verbose)\n",
    "\n",
    "    # meaningfull output\n",
    "    mutN = group_df['mutN'].sum()\n",
    "    kb_size = int(group_df['stretch'].sum() / 1000)\n",
    "    show_output(f\"Library size = {kb_size}kb - {mutN} mutations included\")\n",
    "    return df, group_df, df_scored"
   ]
  },
  {
   "cell_type": "code",
   "execution_count": 18,
   "id": "958ae19f",
   "metadata": {
    "ExecuteTime": {
     "end_time": "2022-02-03T18:14:45.787234Z",
     "start_time": "2022-02-03T18:14:38.087751Z"
    }
   },
   "outputs": [],
   "source": [
    "# load exonic annotations\n",
    "cosmic_exon_path = os.path.join(static_path, \"cosmic_exon.csv\")\n",
    "cosmic_exon_df = pd.read_csv(cosmic_exon_path, sep=\"\\t\", compression=\"gzip\")"
   ]
  },
  {
   "cell_type": "code",
   "execution_count": 41,
   "id": "0c057670",
   "metadata": {
    "ExecuteTime": {
     "end_time": "2022-02-03T18:23:53.202703Z",
     "start_time": "2022-02-03T18:23:52.897762Z"
    }
   },
   "outputs": [
    {
     "name": "stdout",
     "output_type": "stream",
     "text": [
      "\u001b[1;35;2m19:23:52\u001b[0m : \u001b[1;30;1mCreating custom panel based on limits set in filter settings.\n",
      "\t[cosmic_rolling_min:\t2000]\n",
      "\t[rolling_window_size:\t5]\n",
      "\t[cosmic_min:\t20000]\n",
      "\t[cosmic_density_min:\t5000]\n",
      "\t[padding:\t100]\u001b[0m\n",
      "\u001b[1;30;1mUsing precomputed cosmic scores! For recomputation, provide a cosmic weights file\u001b[0m\n",
      "\u001b[1;30;1mPerform rolling window computation\u001b[0m\n",
      "\u001b[1;35;2m19:23:52\u001b[0m : \u001b[1;30;1mComputing mutation density\u001b[0m\n",
      "\u001b[1;30;1mFiltering out background mutations\u001b[0m\n",
      "\u001b[1;35;2m19:23:53\u001b[0m : \u001b[1;30;1mFiltered out 12961 mutations [17755 --> 4794]\u001b[0m\n",
      "\u001b[1;30;1mCollapsing the mutations to adjacency groups\u001b[0m\n",
      "\u001b[1;35;2m19:23:53\u001b[0m : \u001b[1;30;1mCollapsing adjacent mutations and including bait padding\u001b[0m\n",
      "\u001b[1;35;2m19:23:53\u001b[0m : \u001b[1;30;1mLibrary size = 489kb - 4794 mutations included\u001b[0m\n"
     ]
    }
   ],
   "source": [
    "# filter settings\n",
    "custom_filter = dict(\n",
    "    exonic_list = ['exonic', 'UTR3', 'UTR5', 'UTR5;UTR3', 'exonic;splicing'],\n",
    "    mut_list = ['nonsynonymous SNV', 'stopgain', 'startloss', 'stoploss', 'frameshift deletion', 'nonframeshift deletion'],\n",
    "    gnomad_max=1e-2,\n",
    "    cosmic_rolling_min=2000,\n",
    "    rolling_window_size=5,\n",
    "    cosmic_min = 3500,\n",
    "    cosmic_density_min = 250,\n",
    "    padding=100\n",
    ")\n",
    "\n",
    "clinscore_file = \"../testdata/clinscoreLung.yaml\"\n",
    "\n",
    "cosmic_muts, cosmic_collapsed, cosmic_scored = cosmic_master(cosmic_scored,\n",
    "                                              cosmic_weights_file=\"\", \n",
    "                                              filter_settings=custom_filter, \n",
    "                                              verbose=1\n",
    "                                             )"
   ]
  },
  {
   "cell_type": "code",
   "execution_count": 29,
   "id": "d1dbc2f1",
   "metadata": {
    "ExecuteTime": {
     "end_time": "2022-02-03T18:21:59.055579Z",
     "start_time": "2022-02-03T18:21:59.028103Z"
    }
   },
   "outputs": [
    {
     "data": {
      "text/html": [
       "<div>\n",
       "<style scoped>\n",
       "    .dataframe tbody tr th:only-of-type {\n",
       "        vertical-align: middle;\n",
       "    }\n",
       "\n",
       "    .dataframe tbody tr th {\n",
       "        vertical-align: top;\n",
       "    }\n",
       "\n",
       "    .dataframe thead th {\n",
       "        text-align: right;\n",
       "    }\n",
       "</style>\n",
       "<table border=\"1\" class=\"dataframe\">\n",
       "  <thead>\n",
       "    <tr style=\"text-align: right;\">\n",
       "      <th></th>\n",
       "      <th>Chr</th>\n",
       "      <th>Start</th>\n",
       "      <th>End</th>\n",
       "      <th>Ref</th>\n",
       "      <th>Alt</th>\n",
       "      <th>Func</th>\n",
       "      <th>Gene</th>\n",
       "      <th>ExonicFunc</th>\n",
       "      <th>AAChange</th>\n",
       "      <th>cytoband</th>\n",
       "      <th>gnomAD</th>\n",
       "      <th>Mut_ID</th>\n",
       "      <th>type</th>\n",
       "      <th>cosmic_score</th>\n",
       "      <th>cosmic_density</th>\n",
       "      <th>ov1</th>\n",
       "      <th>ov2</th>\n",
       "      <th>ovgroup</th>\n",
       "    </tr>\n",
       "  </thead>\n",
       "  <tbody>\n",
       "    <tr>\n",
       "      <th>4</th>\n",
       "      <td>1</td>\n",
       "      <td>33013230</td>\n",
       "      <td>33013430</td>\n",
       "      <td>G</td>\n",
       "      <td>C</td>\n",
       "      <td>exonic</td>\n",
       "      <td>AK2</td>\n",
       "      <td>nonsynonymous SNV</td>\n",
       "      <td>AK2:NM_001319142:exon5:c.C445G:p.H149D,AK2:NM_001199199:exon6:c.C547G:p.H183D,AK2:NM_001319141:exon6:c.C571G:p.H191D,AK2:NM_001625:exon6:c.C571G:p.H191D,AK2:NM_013411:exon6:c.C571G:p.H191D,AK2:NM_...</td>\n",
       "      <td>1p35.1</td>\n",
       "      <td>0.0</td>\n",
       "      <td>COSV61466144</td>\n",
       "      <td>66x(adenocarcinoma@lung)+18x(carcinoma@thyroid)+6x(large_cell_carcinoma@lung)+6x(mesothelioma@pleura)+6x(neoplasm@liver)+30x(neoplasm@thyroid)+12x(non_small_cell_carcinoma@lung)+138x(squamous_cell...</td>\n",
       "      <td>21294</td>\n",
       "      <td>0.8</td>\n",
       "      <td>1</td>\n",
       "      <td>0</td>\n",
       "      <td>1</td>\n",
       "    </tr>\n",
       "    <tr>\n",
       "      <th>5</th>\n",
       "      <td>1</td>\n",
       "      <td>33013258</td>\n",
       "      <td>33013458</td>\n",
       "      <td>C</td>\n",
       "      <td>G</td>\n",
       "      <td>exonic</td>\n",
       "      <td>AK2</td>\n",
       "      <td>nonsynonymous SNV</td>\n",
       "      <td>AK2:NM_001319142:exon5:c.G417C:p.K139N,AK2:NM_001199199:exon6:c.G519C:p.K173N,AK2:NM_001319141:exon6:c.G543C:p.K181N,AK2:NM_001625:exon6:c.G543C:p.K181N,AK2:NM_013411:exon6:c.G543C:p.K181N,AK2:NM_...</td>\n",
       "      <td>1p35.1</td>\n",
       "      <td>0.0</td>\n",
       "      <td>COSV61466156</td>\n",
       "      <td>90x(adenocarcinoma@lung)+24x(carcinoma@thyroid)+6x(large_cell_carcinoma@lung)+6x(mesothelioma@pleura)+6x(metaplastic_carcinoma@breast)+6x(mucoepidermoid_carcinoma@lung)+6x(neoplasm@liver)+18x(neop...</td>\n",
       "      <td>28836</td>\n",
       "      <td>0.1</td>\n",
       "      <td>0</td>\n",
       "      <td>1</td>\n",
       "      <td>1</td>\n",
       "    </tr>\n",
       "    <tr>\n",
       "      <th>6</th>\n",
       "      <td>1</td>\n",
       "      <td>158354351</td>\n",
       "      <td>158354551</td>\n",
       "      <td>T</td>\n",
       "      <td>A</td>\n",
       "      <td>exonic</td>\n",
       "      <td>CD1E</td>\n",
       "      <td>nonsynonymous SNV</td>\n",
       "      <td>CD1E:NM_001042583:exon2:c.T133A:p.F45I,CD1E:NM_001042584:exon2:c.T133A:p.F45I,CD1E:NM_001042585:exon2:c.T133A:p.F45I,CD1E:NM_001185107:exon2:c.T133A:p.F45I,CD1E:NM_001185108:exon2:c.T133A:p.F45I,C...</td>\n",
       "      <td>1q23.1</td>\n",
       "      <td>0.0</td>\n",
       "      <td>COSV63771407</td>\n",
       "      <td>13x(adenocarcinoma@lung)</td>\n",
       "      <td>3263</td>\n",
       "      <td>526.7</td>\n",
       "      <td>1</td>\n",
       "      <td>0</td>\n",
       "      <td>2</td>\n",
       "    </tr>\n",
       "    <tr>\n",
       "      <th>7</th>\n",
       "      <td>1</td>\n",
       "      <td>158354365</td>\n",
       "      <td>158354565</td>\n",
       "      <td>C</td>\n",
       "      <td>A</td>\n",
       "      <td>exonic</td>\n",
       "      <td>CD1E</td>\n",
       "      <td>nonsynonymous SNV</td>\n",
       "      <td>CD1E:NM_001042583:exon2:c.C147A:p.S49R,CD1E:NM_001042584:exon2:c.C147A:p.S49R,CD1E:NM_001042585:exon2:c.C147A:p.S49R,CD1E:NM_001185107:exon2:c.C147A:p.S49R,CD1E:NM_001185108:exon2:c.C147A:p.S49R,C...</td>\n",
       "      <td>1q23.1</td>\n",
       "      <td>0.0</td>\n",
       "      <td>COSV63769950</td>\n",
       "      <td>13x(adenocarcinoma@right_lower_lobe)+13x(carcinoma@bladder)</td>\n",
       "      <td>3276</td>\n",
       "      <td>628.0</td>\n",
       "      <td>1</td>\n",
       "      <td>1</td>\n",
       "      <td>2</td>\n",
       "    </tr>\n",
       "    <tr>\n",
       "      <th>8</th>\n",
       "      <td>1</td>\n",
       "      <td>158354519</td>\n",
       "      <td>158354719</td>\n",
       "      <td>T</td>\n",
       "      <td>G</td>\n",
       "      <td>exonic</td>\n",
       "      <td>CD1E</td>\n",
       "      <td>nonsynonymous SNV</td>\n",
       "      <td>CD1E:NM_001042583:exon2:c.T301G:p.F101V,CD1E:NM_001042584:exon2:c.T301G:p.F101V,CD1E:NM_001042585:exon2:c.T301G:p.F101V,CD1E:NM_001185107:exon2:c.T301G:p.F101V,CD1E:NM_001185108:exon2:c.T301G:p.F1...</td>\n",
       "      <td>1q23.1</td>\n",
       "      <td>0.0</td>\n",
       "      <td>COSV63771967</td>\n",
       "      <td>13x(adenocarcinoma@stomach)+13x(carcinoma@bladder)+13x(large_cell_neuroendocrine_carcinoma@lung)</td>\n",
       "      <td>3289</td>\n",
       "      <td>545.6</td>\n",
       "      <td>0</td>\n",
       "      <td>1</td>\n",
       "      <td>2</td>\n",
       "    </tr>\n",
       "    <tr>\n",
       "      <th>...</th>\n",
       "      <td>...</td>\n",
       "      <td>...</td>\n",
       "      <td>...</td>\n",
       "      <td>...</td>\n",
       "      <td>...</td>\n",
       "      <td>...</td>\n",
       "      <td>...</td>\n",
       "      <td>...</td>\n",
       "      <td>...</td>\n",
       "      <td>...</td>\n",
       "      <td>...</td>\n",
       "      <td>...</td>\n",
       "      <td>...</td>\n",
       "      <td>...</td>\n",
       "      <td>...</td>\n",
       "      <td>...</td>\n",
       "      <td>...</td>\n",
       "      <td>...</td>\n",
       "    </tr>\n",
       "    <tr>\n",
       "      <th>73</th>\n",
       "      <td>9</td>\n",
       "      <td>21971090</td>\n",
       "      <td>21971290</td>\n",
       "      <td>C</td>\n",
       "      <td>A</td>\n",
       "      <td>exonic</td>\n",
       "      <td>CDKN2A</td>\n",
       "      <td>nonsynonymous SNV</td>\n",
       "      <td>CDKN2A:NM_000077:exon2:c.G169T:p.A57S,CDKN2A:NM_001195132:exon2:c.G169T:p.A57S,CDKN2A:NM_058195:exon2:c.G212T:p.R71L</td>\n",
       "      <td>9p21.3</td>\n",
       "      <td>0.0</td>\n",
       "      <td>COSV58685036</td>\n",
       "      <td>10x(adenocarcinoma@lung)+10x(malignant_melanoma@skin)</td>\n",
       "      <td>2520</td>\n",
       "      <td>1080.7</td>\n",
       "      <td>1</td>\n",
       "      <td>1</td>\n",
       "      <td>5</td>\n",
       "    </tr>\n",
       "    <tr>\n",
       "      <th>74</th>\n",
       "      <td>9</td>\n",
       "      <td>21971095</td>\n",
       "      <td>21971295</td>\n",
       "      <td>C</td>\n",
       "      <td>A</td>\n",
       "      <td>exonic</td>\n",
       "      <td>CDKN2A</td>\n",
       "      <td>nonsynonymous SNV</td>\n",
       "      <td>CDKN2A:NM_000077:exon2:c.G164T:p.G55V,CDKN2A:NM_001195132:exon2:c.G164T:p.G55V</td>\n",
       "      <td>9p21.3</td>\n",
       "      <td>0.0</td>\n",
       "      <td>COSV58683339</td>\n",
       "      <td>20x(adenocarcinoma@lung)+10x(undifferentiated_carcinoma@lung)</td>\n",
       "      <td>5030</td>\n",
       "      <td>1512.0</td>\n",
       "      <td>0</td>\n",
       "      <td>1</td>\n",
       "      <td>5</td>\n",
       "    </tr>\n",
       "    <tr>\n",
       "      <th>75</th>\n",
       "      <td>9</td>\n",
       "      <td>36881957</td>\n",
       "      <td>36882157</td>\n",
       "      <td>G</td>\n",
       "      <td>C</td>\n",
       "      <td>exonic</td>\n",
       "      <td>PAX5</td>\n",
       "      <td>nonsynonymous SNV</td>\n",
       "      <td>PAX5:NM_001280553:exon7:c.C830G:p.P277R,PAX5:NM_001280554:exon7:c.C830G:p.P277R,PAX5:NM_001280556:exon7:c.C635G:p.P212R,PAX5:NM_001280548:exon8:c.C959G:p.P320R,PAX5:NM_016734:exon8:c.C959G:p.P320R</td>\n",
       "      <td>9p13.2</td>\n",
       "      <td>0.0</td>\n",
       "      <td>COSV99050267</td>\n",
       "      <td>11x(adenocarcinoma@lung)</td>\n",
       "      <td>2761</td>\n",
       "      <td>1061.9</td>\n",
       "      <td>1</td>\n",
       "      <td>0</td>\n",
       "      <td>6</td>\n",
       "    </tr>\n",
       "    <tr>\n",
       "      <th>76</th>\n",
       "      <td>9</td>\n",
       "      <td>36881963</td>\n",
       "      <td>36882163</td>\n",
       "      <td>T</td>\n",
       "      <td>A</td>\n",
       "      <td>exonic</td>\n",
       "      <td>PAX5</td>\n",
       "      <td>nonsynonymous SNV</td>\n",
       "      <td>PAX5:NM_001280553:exon7:c.A824T:p.H275L,PAX5:NM_001280554:exon7:c.A824T:p.H275L,PAX5:NM_001280556:exon7:c.A629T:p.H210L,PAX5:NM_001280548:exon8:c.A953T:p.H318L,PAX5:NM_016734:exon8:c.A953T:p.H318L</td>\n",
       "      <td>9p13.2</td>\n",
       "      <td>0.0</td>\n",
       "      <td>COSV63911186</td>\n",
       "      <td>11x(adenocarcinoma@lung)</td>\n",
       "      <td>2761</td>\n",
       "      <td>726.6</td>\n",
       "      <td>1</td>\n",
       "      <td>1</td>\n",
       "      <td>6</td>\n",
       "    </tr>\n",
       "    <tr>\n",
       "      <th>77</th>\n",
       "      <td>9</td>\n",
       "      <td>36881964</td>\n",
       "      <td>36882164</td>\n",
       "      <td>G</td>\n",
       "      <td>T</td>\n",
       "      <td>exonic</td>\n",
       "      <td>PAX5</td>\n",
       "      <td>nonsynonymous SNV</td>\n",
       "      <td>PAX5:NM_001280553:exon7:c.C823A:p.H275N,PAX5:NM_001280554:exon7:c.C823A:p.H275N,PAX5:NM_001280556:exon7:c.C628A:p.H210N,PAX5:NM_001280548:exon8:c.C952A:p.H318N,PAX5:NM_016734:exon8:c.C952A:p.H318N</td>\n",
       "      <td>9p13.2</td>\n",
       "      <td>0.0</td>\n",
       "      <td>COSV63910084</td>\n",
       "      <td>11x(adenocarcinoma@right_lower_lobe)</td>\n",
       "      <td>2761</td>\n",
       "      <td>600.2</td>\n",
       "      <td>0</td>\n",
       "      <td>1</td>\n",
       "      <td>6</td>\n",
       "    </tr>\n",
       "  </tbody>\n",
       "</table>\n",
       "<p>705 rows × 18 columns</p>\n",
       "</div>"
      ],
      "text/plain": [
       "    Chr      Start        End Ref Alt    Func    Gene         ExonicFunc  \\\n",
       "4     1   33013230   33013430   G   C  exonic     AK2  nonsynonymous SNV   \n",
       "5     1   33013258   33013458   C   G  exonic     AK2  nonsynonymous SNV   \n",
       "6     1  158354351  158354551   T   A  exonic    CD1E  nonsynonymous SNV   \n",
       "7     1  158354365  158354565   C   A  exonic    CD1E  nonsynonymous SNV   \n",
       "8     1  158354519  158354719   T   G  exonic    CD1E  nonsynonymous SNV   \n",
       "..  ...        ...        ...  ..  ..     ...     ...                ...   \n",
       "73    9   21971090   21971290   C   A  exonic  CDKN2A  nonsynonymous SNV   \n",
       "74    9   21971095   21971295   C   A  exonic  CDKN2A  nonsynonymous SNV   \n",
       "75    9   36881957   36882157   G   C  exonic    PAX5  nonsynonymous SNV   \n",
       "76    9   36881963   36882163   T   A  exonic    PAX5  nonsynonymous SNV   \n",
       "77    9   36881964   36882164   G   T  exonic    PAX5  nonsynonymous SNV   \n",
       "\n",
       "                                                                                                                                                                                                   AAChange  \\\n",
       "4   AK2:NM_001319142:exon5:c.C445G:p.H149D,AK2:NM_001199199:exon6:c.C547G:p.H183D,AK2:NM_001319141:exon6:c.C571G:p.H191D,AK2:NM_001625:exon6:c.C571G:p.H191D,AK2:NM_013411:exon6:c.C571G:p.H191D,AK2:NM_...   \n",
       "5   AK2:NM_001319142:exon5:c.G417C:p.K139N,AK2:NM_001199199:exon6:c.G519C:p.K173N,AK2:NM_001319141:exon6:c.G543C:p.K181N,AK2:NM_001625:exon6:c.G543C:p.K181N,AK2:NM_013411:exon6:c.G543C:p.K181N,AK2:NM_...   \n",
       "6   CD1E:NM_001042583:exon2:c.T133A:p.F45I,CD1E:NM_001042584:exon2:c.T133A:p.F45I,CD1E:NM_001042585:exon2:c.T133A:p.F45I,CD1E:NM_001185107:exon2:c.T133A:p.F45I,CD1E:NM_001185108:exon2:c.T133A:p.F45I,C...   \n",
       "7   CD1E:NM_001042583:exon2:c.C147A:p.S49R,CD1E:NM_001042584:exon2:c.C147A:p.S49R,CD1E:NM_001042585:exon2:c.C147A:p.S49R,CD1E:NM_001185107:exon2:c.C147A:p.S49R,CD1E:NM_001185108:exon2:c.C147A:p.S49R,C...   \n",
       "8   CD1E:NM_001042583:exon2:c.T301G:p.F101V,CD1E:NM_001042584:exon2:c.T301G:p.F101V,CD1E:NM_001042585:exon2:c.T301G:p.F101V,CD1E:NM_001185107:exon2:c.T301G:p.F101V,CD1E:NM_001185108:exon2:c.T301G:p.F1...   \n",
       "..                                                                                                                                                                                                      ...   \n",
       "73                                                                                     CDKN2A:NM_000077:exon2:c.G169T:p.A57S,CDKN2A:NM_001195132:exon2:c.G169T:p.A57S,CDKN2A:NM_058195:exon2:c.G212T:p.R71L   \n",
       "74                                                                                                                           CDKN2A:NM_000077:exon2:c.G164T:p.G55V,CDKN2A:NM_001195132:exon2:c.G164T:p.G55V   \n",
       "75     PAX5:NM_001280553:exon7:c.C830G:p.P277R,PAX5:NM_001280554:exon7:c.C830G:p.P277R,PAX5:NM_001280556:exon7:c.C635G:p.P212R,PAX5:NM_001280548:exon8:c.C959G:p.P320R,PAX5:NM_016734:exon8:c.C959G:p.P320R   \n",
       "76     PAX5:NM_001280553:exon7:c.A824T:p.H275L,PAX5:NM_001280554:exon7:c.A824T:p.H275L,PAX5:NM_001280556:exon7:c.A629T:p.H210L,PAX5:NM_001280548:exon8:c.A953T:p.H318L,PAX5:NM_016734:exon8:c.A953T:p.H318L   \n",
       "77     PAX5:NM_001280553:exon7:c.C823A:p.H275N,PAX5:NM_001280554:exon7:c.C823A:p.H275N,PAX5:NM_001280556:exon7:c.C628A:p.H210N,PAX5:NM_001280548:exon8:c.C952A:p.H318N,PAX5:NM_016734:exon8:c.C952A:p.H318N   \n",
       "\n",
       "   cytoband  gnomAD        Mut_ID  \\\n",
       "4    1p35.1     0.0  COSV61466144   \n",
       "5    1p35.1     0.0  COSV61466156   \n",
       "6    1q23.1     0.0  COSV63771407   \n",
       "7    1q23.1     0.0  COSV63769950   \n",
       "8    1q23.1     0.0  COSV63771967   \n",
       "..      ...     ...           ...   \n",
       "73   9p21.3     0.0  COSV58685036   \n",
       "74   9p21.3     0.0  COSV58683339   \n",
       "75   9p13.2     0.0  COSV99050267   \n",
       "76   9p13.2     0.0  COSV63911186   \n",
       "77   9p13.2     0.0  COSV63910084   \n",
       "\n",
       "                                                                                                                                                                                                       type  \\\n",
       "4   66x(adenocarcinoma@lung)+18x(carcinoma@thyroid)+6x(large_cell_carcinoma@lung)+6x(mesothelioma@pleura)+6x(neoplasm@liver)+30x(neoplasm@thyroid)+12x(non_small_cell_carcinoma@lung)+138x(squamous_cell...   \n",
       "5   90x(adenocarcinoma@lung)+24x(carcinoma@thyroid)+6x(large_cell_carcinoma@lung)+6x(mesothelioma@pleura)+6x(metaplastic_carcinoma@breast)+6x(mucoepidermoid_carcinoma@lung)+6x(neoplasm@liver)+18x(neop...   \n",
       "6                                                                                                                                                                                  13x(adenocarcinoma@lung)   \n",
       "7                                                                                                                                               13x(adenocarcinoma@right_lower_lobe)+13x(carcinoma@bladder)   \n",
       "8                                                                                                          13x(adenocarcinoma@stomach)+13x(carcinoma@bladder)+13x(large_cell_neuroendocrine_carcinoma@lung)   \n",
       "..                                                                                                                                                                                                      ...   \n",
       "73                                                                                                                                                    10x(adenocarcinoma@lung)+10x(malignant_melanoma@skin)   \n",
       "74                                                                                                                                            20x(adenocarcinoma@lung)+10x(undifferentiated_carcinoma@lung)   \n",
       "75                                                                                                                                                                                 11x(adenocarcinoma@lung)   \n",
       "76                                                                                                                                                                                 11x(adenocarcinoma@lung)   \n",
       "77                                                                                                                                                                     11x(adenocarcinoma@right_lower_lobe)   \n",
       "\n",
       "    cosmic_score  cosmic_density  ov1  ov2  ovgroup  \n",
       "4          21294             0.8    1    0        1  \n",
       "5          28836             0.1    0    1        1  \n",
       "6           3263           526.7    1    0        2  \n",
       "7           3276           628.0    1    1        2  \n",
       "8           3289           545.6    0    1        2  \n",
       "..           ...             ...  ...  ...      ...  \n",
       "73          2520          1080.7    1    1        5  \n",
       "74          5030          1512.0    0    1        5  \n",
       "75          2761          1061.9    1    0        6  \n",
       "76          2761           726.6    1    1        6  \n",
       "77          2761           600.2    0    1        6  \n",
       "\n",
       "[705 rows x 18 columns]"
      ]
     },
     "execution_count": 29,
     "metadata": {},
     "output_type": "execute_result"
    }
   ],
   "source": [
    "cosmic_muts"
   ]
  },
  {
   "cell_type": "code",
   "execution_count": null,
   "id": "0ad8f42e",
   "metadata": {
    "ExecuteTime": {
     "end_time": "2022-02-03T16:53:14.064696Z",
     "start_time": "2022-02-03T16:53:14.038765Z"
    }
   },
   "outputs": [],
   "source": [
    "cosmic_collapsed"
   ]
  },
  {
   "cell_type": "code",
   "execution_count": null,
   "id": "27e87aa3",
   "metadata": {
    "ExecuteTime": {
     "end_time": "2022-02-03T16:56:25.676683Z",
     "start_time": "2022-02-03T16:56:25.641964Z"
    }
   },
   "outputs": [],
   "source": [
    "cosmic_muts.drop(['AAChange', 'type'], axis=1).query('Gene == \"EGFR\" or Gene == \"BRAF\"')"
   ]
  },
  {
   "cell_type": "code",
   "execution_count": null,
   "id": "cd693922",
   "metadata": {},
   "outputs": [],
   "source": []
  }
 ],
 "metadata": {
  "kernelspec": {
   "display_name": "Python 3 (ipykernel)",
   "language": "python",
   "name": "python3"
  },
  "language_info": {
   "codemirror_mode": {
    "name": "ipython",
    "version": 3
   },
   "file_extension": ".py",
   "mimetype": "text/x-python",
   "name": "python",
   "nbconvert_exporter": "python",
   "pygments_lexer": "ipython3",
   "version": "3.10.2"
  },
  "latex_envs": {
   "LaTeX_envs_menu_present": true,
   "autoclose": false,
   "autocomplete": true,
   "bibliofile": "biblio.bib",
   "cite_by": "apalike",
   "current_citInitial": 1,
   "eqLabelWithNumbers": true,
   "eqNumInitial": 1,
   "hotkeys": {
    "equation": "Ctrl-E",
    "itemize": "Ctrl-I"
   },
   "labels_anchors": false,
   "latex_user_defs": false,
   "report_style_numbering": false,
   "user_envs_cfg": false
  },
  "varInspector": {
   "cols": {
    "lenName": 16,
    "lenType": 16,
    "lenVar": 40
   },
   "kernels_config": {
    "python": {
     "delete_cmd_postfix": "",
     "delete_cmd_prefix": "del ",
     "library": "var_list.py",
     "varRefreshCmd": "print(var_dic_list())"
    },
    "r": {
     "delete_cmd_postfix": ") ",
     "delete_cmd_prefix": "rm(",
     "library": "var_list.r",
     "varRefreshCmd": "cat(var_dic_list()) "
    }
   },
   "types_to_exclude": [
    "module",
    "function",
    "builtin_function_or_method",
    "instance",
    "_Feature"
   ],
   "window_display": false
  }
 },
 "nbformat": 4,
 "nbformat_minor": 5
}

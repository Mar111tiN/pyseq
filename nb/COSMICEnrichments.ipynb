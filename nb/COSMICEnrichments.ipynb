{
 "cells": [
  {
   "cell_type": "markdown",
   "id": "43b593fd",
   "metadata": {},
   "source": [
    "## Creating a custom panel for use in small sequencers for LungCancerMutations\n",
    "\n",
    "### Strategy: Look for mutational hotspots for lung cancer in the COSMIC Database"
   ]
  },
  {
   "cell_type": "code",
   "execution_count": null,
   "id": "49fdc562",
   "metadata": {
    "ExecuteTime": {
     "end_time": "2022-02-03T18:56:38.383528Z",
     "start_time": "2022-02-03T18:56:38.364593Z"
    }
   },
   "outputs": [],
   "source": [
    "# some sensible settings for better output\n",
    "import os\n",
    "import pandas as pd\n",
    "from IPython.display import display\n",
    "pd.set_option('display.max_columns', None)\n",
    "from IPython.core.interactiveshell import InteractiveShell\n",
    "InteractiveShell.ast_node_interactivity = \"all\"\n",
    "pd.set_option('max_colwidth', 200)\n",
    "\n",
    "\n",
    "# get the code\n",
    "import sys\n",
    "sys.path.append('../code')\n",
    "from script_utils import show_output\n",
    "\n",
    "# paths\n",
    "static_path = os.path.join(os.environ['STATIC'], \"annotation/clinical\")\n",
    "local_path = os.path.join(os.environ['WORK'], \"LO/Sequencing/LungCustomPanel/output\")"
   ]
  },
  {
   "cell_type": "code",
   "execution_count": null,
   "id": "6d5e605e",
   "metadata": {},
   "outputs": [],
   "source": [
    "LO/Sequencing/LungCustomPanel/output/M162_muts.hg38.csv"
   ]
  },
  {
   "cell_type": "markdown",
   "id": "cf64858b",
   "metadata": {},
   "source": [
    "### filter the cosmic database for exonic mutations\n",
    "+ annotate the whole of cosmic with annovar for gene model and SNPs\n",
    "* `$ conda activate annovar-env`\n",
    "* `perl ../code/anno2019/table_annovar.pl --buildver hg38 --maxgenethread 10 --thread 10 --protocol refGene,cytoband,gnomad30 --operation g,r,f -nastring \".\" --otherinfo --remove --outfile ../output/cosmic ${STATIC}/annotation/annovar/humandb/hg38_cosmic95.txt $STATIC/annotation/annovar/humandb`"
   ]
  },
  {
   "cell_type": "markdown",
   "id": "2298a26f",
   "metadata": {},
   "source": [
    "+ load the annovar output and edit"
   ]
  },
  {
   "cell_type": "code",
   "execution_count": null,
   "id": "f9b1e5c9",
   "metadata": {
    "ExecuteTime": {
     "end_time": "2022-02-03T12:14:12.302732Z",
     "start_time": "2022-02-03T12:14:12.253988Z"
    }
   },
   "outputs": [],
   "source": [
    "from pyseq_utils import load_anno\n",
    "cosmic_all_path = os.path.join(local_path, \"../output/cosmic.hg38_multianno.txt\")\n",
    "cosmic_all = load_anno(cosmic_all_path)\n",
    "cosmic_all"
   ]
  },
  {
   "cell_type": "markdown",
   "id": "f11cff10",
   "metadata": {},
   "source": [
    "+ save and load"
   ]
  },
  {
   "cell_type": "code",
   "execution_count": null,
   "id": "6f7bcf79",
   "metadata": {
    "ExecuteTime": {
     "end_time": "2022-02-03T12:14:23.758148Z",
     "start_time": "2022-02-03T12:14:23.731532Z"
    }
   },
   "outputs": [],
   "source": [
    "cosmic_all.to_csv(os.path.join(static_path, \"cosmic_all.csv\"), sep=\"\\t\", index=False, compression=\"gzip\")\n",
    "cosmic_all = pd.read_csv(os.path.join(static_path, \"cosmic_all.csv\"), sep=\"\\t\", compression=\"gzip\")\n",
    "cosmic_all[:3]\n",
    "len(cosmic_all.index)"
   ]
  },
  {
   "cell_type": "markdown",
   "id": "d51eb928",
   "metadata": {
    "ExecuteTime": {
     "end_time": "2022-02-03T07:32:03.475962Z",
     "start_time": "2022-02-03T07:32:03.463072Z"
    }
   },
   "source": [
    "### Filter on non-exonic and SNP-rich mutations"
   ]
  },
  {
   "cell_type": "code",
   "execution_count": null,
   "id": "fa107fd3",
   "metadata": {
    "ExecuteTime": {
     "end_time": "2022-02-03T14:46:14.221825Z",
     "start_time": "2022-02-03T14:46:14.190945Z"
    }
   },
   "outputs": [],
   "source": [
    "from pyseq_utils import filter_exonic\n",
    "\n",
    "exonic_filter = dict(\n",
    "    exonic_list = ['exonic', 'UTR3', 'UTR5', 'UTR5;UTR3', 'exonic;splicing'],\n",
    "    mut_list = ['nonsynonymous SNV', 'stopgain', 'startloss', 'stoploss', 'frameshift deletion', 'nonframeshift deletion'],\n",
    "    gnomad_max=1e-2\n",
    ")\n",
    "\n",
    "cosmic_exon = filter_exonic(cosmic_all, filter_settings=exonic_filter)\n",
    "cosmic_exon"
   ]
  },
  {
   "cell_type": "markdown",
   "id": "1aa53228",
   "metadata": {},
   "source": [
    "## save and re-import the COSMIC exon databased load"
   ]
  },
  {
   "cell_type": "code",
   "execution_count": null,
   "id": "aea1daee",
   "metadata": {
    "ExecuteTime": {
     "end_time": "2022-02-03T15:11:36.636289Z",
     "start_time": "2022-02-03T15:11:29.311952Z"
    }
   },
   "outputs": [],
   "source": [
    "cosmic_exon_path = os.path.join(static_path, \"cosmic_exon.csv\")\n",
    "# cosmic_exon.to_csv(cosmic_exon_path, sep=\"\\t\", index=False, compression=\"gzip\")\n",
    "cosmic_exon = pd.read_csv(cosmic_exon_path, sep=\"\\t\", compression=\"gzip\")\n",
    "cosmic_exon[:3]\n",
    "len(cosmic_exon.index)"
   ]
  },
  {
   "cell_type": "markdown",
   "id": "70d328e8",
   "metadata": {},
   "source": [
    "## calculate the clinscore for all exonic data based on clinscore weights\n",
    "+ weights are applied via yaml file"
   ]
  },
  {
   "cell_type": "code",
   "execution_count": null,
   "id": "43ca270e",
   "metadata": {
    "ExecuteTime": {
     "end_time": "2022-02-03T15:11:44.991143Z",
     "start_time": "2022-02-03T15:11:36.797416Z"
    }
   },
   "outputs": [],
   "source": [
    "from clinscore import get_cosmic_score\n",
    "clinscore_file = \"../configs/clinscoreLung.yaml\"\n",
    "cosmic_scored = get_cosmic_score(cosmic_exon, clinscore_file=clinscore_file, threads=10, verbose=1)\n",
    "cosmic_scored"
   ]
  },
  {
   "cell_type": "markdown",
   "id": "953f2f7d",
   "metadata": {},
   "source": [
    "### plot the distribution of scores"
   ]
  },
  {
   "cell_type": "code",
   "execution_count": null,
   "id": "f1a16f5e",
   "metadata": {
    "ExecuteTime": {
     "end_time": "2022-02-03T15:11:46.731470Z",
     "start_time": "2022-02-03T15:11:45.216096Z"
    }
   },
   "outputs": [],
   "source": [
    "%matplotlib inline\n",
    "import matplotlib.pyplot as plt\n",
    "import seaborn as sn\n",
    "sn.set()\n",
    "\n",
    "plt.style.use(\"seaborn-white\")\n",
    "_ = plt.hist(cosmic_scored.query('cosmic_score > 20000')['cosmic_score'], alpha=.5, bins=700)\n",
    "plt.yscale(\"log\")\n",
    "plt.xscale(\"log\")"
   ]
  },
  {
   "cell_type": "code",
   "execution_count": null,
   "id": "2fc577c1",
   "metadata": {
    "ExecuteTime": {
     "end_time": "2022-02-03T17:20:37.970349Z",
     "start_time": "2022-02-03T17:20:32.385584Z"
    }
   },
   "outputs": [],
   "source": [
    "# cosmic_scored.to_csv(os.path.join(local_path, \"cosmic_lung.csv\"), sep=\"\\t\", index=False)\n",
    "cosmic_scored = pd.read_csv(os.path.join(local_path, \"cosmic_lung.csv\"), sep=\"\\t\")\n",
    "cosmic_scored.query('cosmic_score > 100')[:10]"
   ]
  },
  {
   "cell_type": "markdown",
   "id": "05fbf427",
   "metadata": {},
   "source": [
    "### perform rolling computation to get hotspots\n",
    "+ cycle through the chromosomes\n",
    "+ remove background mutations\n",
    "+ roll for density\n",
    "+ merge into chromosome df"
   ]
  },
  {
   "cell_type": "code",
   "execution_count": null,
   "id": "f0791fd6",
   "metadata": {
    "ExecuteTime": {
     "end_time": "2022-02-03T17:20:42.600034Z",
     "start_time": "2022-02-03T17:20:42.456322Z"
    }
   },
   "outputs": [],
   "source": [
    "from cosmic_panel import compute_cosmic_density\n",
    "\n",
    "custom_filter = dict(\n",
    "    cosmic_rolling_min=500,\n",
    "    rolling_window_size=5\n",
    ")\n",
    "\n",
    "cosmic_roll = compute_cosmic_density(cosmic_scored, filter_setting=custom_filter, verbose=1)\n",
    "cosmic_roll[:3]"
   ]
  },
  {
   "cell_type": "markdown",
   "id": "e4cc91e7",
   "metadata": {},
   "source": [
    "### plot the density distribution"
   ]
  },
  {
   "cell_type": "code",
   "execution_count": null,
   "id": "8cac6f49",
   "metadata": {
    "ExecuteTime": {
     "end_time": "2022-02-03T17:20:47.319678Z",
     "start_time": "2022-02-03T17:20:45.835063Z"
    }
   },
   "outputs": [],
   "source": [
    "%matplotlib inline\n",
    "import matplotlib.pyplot as plt\n",
    "import seaborn as sn\n",
    "sn.set()\n",
    "\n",
    "plt.style.use(\"seaborn-white\")\n",
    "_ = plt.hist(cosmic_roll.query('cosmic_score > 10000').query('cosmic_density > 100')['cosmic_density'], alpha=.5, bins=700)\n",
    "plt.yscale(\"log\")\n",
    "plt.xscale(\"log\")"
   ]
  },
  {
   "cell_type": "markdown",
   "id": "c57c0122",
   "metadata": {},
   "source": [
    "### filter for very important mutations and high density regions\n",
    "+ looks like the density cutoff should be around "
   ]
  },
  {
   "cell_type": "markdown",
   "id": "41d9b3f0",
   "metadata": {},
   "source": [
    "### now calculate approximate panel size based on approximate padding size"
   ]
  },
  {
   "cell_type": "code",
   "execution_count": null,
   "id": "92328cec",
   "metadata": {
    "ExecuteTime": {
     "end_time": "2022-02-03T18:52:14.808710Z",
     "start_time": "2022-02-03T18:52:14.773933Z"
    }
   },
   "outputs": [],
   "source": [
    "from cosmic_panel import full_collapse\n",
    "\n",
    "cosmic_muts, cosmic_collapsed = full_collapse(cosmic_f2)\n",
    "cosmic_collapsed"
   ]
  },
  {
   "cell_type": "code",
   "execution_count": null,
   "id": "73366bf9",
   "metadata": {
    "ExecuteTime": {
     "end_time": "2022-02-03T15:31:52.658435Z",
     "start_time": "2022-02-03T15:31:51.419983Z"
    }
   },
   "outputs": [],
   "source": [
    "cosmic_muts.query('Gene == \"EGFR\"').drop(['AAChange'])"
   ]
  },
  {
   "cell_type": "markdown",
   "id": "0d6558a2",
   "metadata": {},
   "source": [
    "## putting it all together"
   ]
  },
  {
   "cell_type": "code",
   "execution_count": null,
   "id": "958ae19f",
   "metadata": {
    "ExecuteTime": {
     "end_time": "2022-02-03T18:56:49.509868Z",
     "start_time": "2022-02-03T18:56:42.217671Z"
    }
   },
   "outputs": [],
   "source": [
    "from cosmic_panel import cosmic_master\n",
    "\n",
    "# load exonic annotations\n",
    "cosmic_exon_path = os.path.join(static_path, \"cosmic_exon.csv\")\n",
    "cosmic_exon_df = pd.read_csv(cosmic_exon_path, sep=\"\\t\", compression=\"gzip\")"
   ]
  },
  {
   "cell_type": "code",
   "execution_count": null,
   "id": "0c057670",
   "metadata": {
    "ExecuteTime": {
     "end_time": "2022-02-03T18:56:58.496591Z",
     "start_time": "2022-02-03T18:56:49.744556Z"
    }
   },
   "outputs": [],
   "source": [
    "# filter settings\n",
    "custom_filter = dict(\n",
    "    exonic_list = ['exonic', 'UTR3', 'UTR5', 'UTR5;UTR3', 'exonic;splicing'],\n",
    "    mut_list = ['nonsynonymous SNV', 'stopgain', 'startloss', 'stoploss', 'frameshift deletion', 'nonframeshift deletion'],\n",
    "    gnomad_max=1e-2,\n",
    "    cosmic_rolling_min=2000,\n",
    "    rolling_window_size=5,\n",
    "    cosmic_min = 3500,\n",
    "    cosmic_density_min = 250,\n",
    "    padding=100\n",
    ")\n",
    "\n",
    "clinscore_file = \"../testdata/clinscoreLung.yaml\"\n",
    "\n",
    "cosmic_muts, cosmic_collapsed, cosmic_scored = cosmic_master(cosmic_exon_df,\n",
    "                                              cosmic_weights_file=clinscore_file, \n",
    "                                              filter_setting=custom_filter, \n",
    "                                              verbose=1\n",
    "                                             )"
   ]
  },
  {
   "cell_type": "markdown",
   "id": "873432a1",
   "metadata": {},
   "source": [
    "### reruns can be performed without re-computing the cosmic scores\n",
    "+ just use the last output from previous run and remove the cosmic_weights file"
   ]
  },
  {
   "cell_type": "code",
   "execution_count": null,
   "id": "f2f4fd56",
   "metadata": {
    "ExecuteTime": {
     "end_time": "2022-02-03T18:57:13.467118Z",
     "start_time": "2022-02-03T18:57:13.162051Z"
    }
   },
   "outputs": [],
   "source": [
    "custom_filter = dict(\n",
    "    exonic_list = ['exonic', 'UTR3', 'UTR5', 'UTR5;UTR3', 'exonic;splicing'],\n",
    "    mut_list = ['nonsynonymous SNV', 'stopgain', 'startloss', 'stoploss', 'frameshift deletion', 'nonframeshift deletion'],\n",
    "    gnomad_max=1e-2,\n",
    "    cosmic_rolling_min=2000,\n",
    "    rolling_window_size=5,\n",
    "    cosmic_min = 3500,\n",
    "    cosmic_density_min = 250,\n",
    "    padding=100\n",
    ")\n",
    "\n",
    "cosmic_muts, cosmic_collapsed, cosmic_scored = cosmic_master(cosmic_scored,\n",
    "                                              cosmic_weights_file=\"\", \n",
    "                                              filter_setting=custom_filter, \n",
    "                                              verbose=1\n",
    "                                             )"
   ]
  },
  {
   "cell_type": "code",
   "execution_count": null,
   "id": "aeaec22a",
   "metadata": {
    "ExecuteTime": {
     "end_time": "2022-02-03T16:53:14.064696Z",
     "start_time": "2022-02-03T16:53:14.038765Z"
    }
   },
   "outputs": [],
   "source": [
    "cosmic_collapsed"
   ]
  },
  {
   "cell_type": "code",
   "execution_count": null,
   "id": "211f1d1f",
   "metadata": {
    "ExecuteTime": {
     "end_time": "2022-02-03T16:56:25.676683Z",
     "start_time": "2022-02-03T16:56:25.641964Z"
    }
   },
   "outputs": [],
   "source": [
    "cosmic_muts.drop(['AAChange', 'type'], axis=1).query('Gene == \"EGFR\" or Gene == \"BRAF\"')"
   ]
  }
 ],
 "metadata": {
  "kernelspec": {
   "display_name": "Python 3 (ipykernel)",
   "language": "python",
   "name": "python3"
  },
  "language_info": {
   "codemirror_mode": {
    "name": "ipython",
    "version": 3
   },
   "file_extension": ".py",
   "mimetype": "text/x-python",
   "name": "python",
   "nbconvert_exporter": "python",
   "pygments_lexer": "ipython3",
   "version": "3.10.2"
  },
  "latex_envs": {
   "LaTeX_envs_menu_present": true,
   "autoclose": false,
   "autocomplete": true,
   "bibliofile": "biblio.bib",
   "cite_by": "apalike",
   "current_citInitial": 1,
   "eqLabelWithNumbers": true,
   "eqNumInitial": 1,
   "hotkeys": {
    "equation": "Ctrl-E",
    "itemize": "Ctrl-I"
   },
   "labels_anchors": false,
   "latex_user_defs": false,
   "report_style_numbering": false,
   "user_envs_cfg": false
  },
  "varInspector": {
   "cols": {
    "lenName": 16,
    "lenType": 16,
    "lenVar": 40
   },
   "kernels_config": {
    "python": {
     "delete_cmd_postfix": "",
     "delete_cmd_prefix": "del ",
     "library": "var_list.py",
     "varRefreshCmd": "print(var_dic_list())"
    },
    "r": {
     "delete_cmd_postfix": ") ",
     "delete_cmd_prefix": "rm(",
     "library": "var_list.r",
     "varRefreshCmd": "cat(var_dic_list()) "
    }
   },
   "types_to_exclude": [
    "module",
    "function",
    "builtin_function_or_method",
    "instance",
    "_Feature"
   ],
   "window_display": false
  }
 },
 "nbformat": 4,
 "nbformat_minor": 5
}
